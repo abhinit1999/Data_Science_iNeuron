{
 "cells": [
  {
   "cell_type": "markdown",
   "metadata": {},
   "source": [
    "# 1. The PyPDF2.PdfFileReader() function does not receive a string value for the PDF filename. Instead, what do you pass to the function?"
   ]
  },
  {
   "cell_type": "markdown",
   "metadata": {},
   "source": [
    "We can stor the string value in other variable and that variable can be passed in PyPDF2.PdfFileReader() function"
   ]
  },
  {
   "cell_type": "markdown",
   "metadata": {},
   "source": [
    "# 2. In what modes should the PdfFileReader() and PdfFileWriter() File objects be opened?"
   ]
  },
  {
   "cell_type": "markdown",
   "metadata": {},
   "source": [
    "PdfFileReader() needs to be opened in read-binary mode by passing 'rb' as the second argument to open(). Likewise, the File object passed to PyPDF2. PdfFileWriter() needs to be opened in write-binary mode with 'wb'."
   ]
  },
  {
   "cell_type": "markdown",
   "metadata": {},
   "source": [
    "# 3. From a PdfFileReader object, how do you get a Page object for page 5?"
   ]
  },
  {
   "cell_type": "markdown",
   "metadata": {},
   "source": [
    "We need to get a Page object, which represents a single page of a PDF, from a PdfFileReader object. We can get a Page object by calling the getPage() method on a PdfFileReader object and passing it the page number of the page we're interested in"
   ]
  },
  {
   "cell_type": "markdown",
   "metadata": {},
   "source": [
    "# 4. Which PdfFileReader variable keeps track of the PDF document's page count?"
   ]
  },
  {
   "cell_type": "markdown",
   "metadata": {},
   "source": [
    "The total number of pages in the document is stored in the numPages attribute of a PdfFileReader object"
   ]
  },
  {
   "cell_type": "markdown",
   "metadata": {},
   "source": [
    "# 5. What must you do if the PDF of a PdfFileReader object is encrypted with the password swordfish before you can get Page objects from it?"
   ]
  },
  {
   "cell_type": "markdown",
   "metadata": {},
   "source": [
    "All PdfFileReader objects have an isEncrypted attribute that is True if the PDF is encrypted and False if it isn’t . Any attempt to call a function that reads the file before it has been decrypted with the correct password will result in an error"
   ]
  },
  {
   "cell_type": "markdown",
   "metadata": {},
   "source": [
    "# 6. Can you tell me how you rotate a page?"
   ]
  },
  {
   "cell_type": "raw",
   "metadata": {},
   "source": [
    "import PyPDF2\n",
    "\n",
    "with open('Python_Tutorial.pdf', 'rb') as pdf_file:\n",
    "    pdf_reader = PyPDF2.PdfFileReader(pdf_file)\n",
    "    pdf_writer = PyPDF2.PdfFileWriter()\n",
    "\n",
    "    for page_num in range(pdf_reader.numPages):\n",
    "        pdf_page = pdf_reader.getPage(page_num)\n",
    "        pdf_page.rotateClockwise(90)  # rotateCounterClockwise()\n",
    "\n",
    "        pdf_writer.addPage(pdf_page)\n",
    "\n",
    "    with open('Python_Tutorial_rotated.pdf', 'wb') as pdf_file_rotated:\n",
    "        pdf_writer.write(pdf_file_rotated)"
   ]
  },
  {
   "cell_type": "markdown",
   "metadata": {},
   "source": [
    "# 7. For the file demo.docx, which method returns a Document object?"
   ]
  },
  {
   "cell_type": "markdown",
   "metadata": {},
   "source": [
    "we open a .docx file in Python, call docx.Document(), and pass the filename demo.docx. This will return a Document object"
   ]
  },
  {
   "cell_type": "markdown",
   "metadata": {},
   "source": [
    "# 8. What is the difference between a Run object and a Paragraph object?"
   ]
  },
  {
   "cell_type": "markdown",
   "metadata": {},
   "source": [
    "Each Paragraph object also has a runs attribute that is a list of Run objects. Run objects also have a text attribute, containing just the text in that particular run."
   ]
  },
  {
   "cell_type": "markdown",
   "metadata": {},
   "source": [
    "# 9. For a Document object stored in a variable called doc, how do you get a list of paragraph objects?"
   ]
  },
  {
   "cell_type": "markdown",
   "metadata": {},
   "source": [
    "The Document object contains a list of Paragraph objects for the paragraphs in the document."
   ]
  },
  {
   "cell_type": "markdown",
   "metadata": {},
   "source": [
    "# 10. What object has the variables bold, underline, italic, hit, and outline?"
   ]
  },
  {
   "cell_type": "markdown",
   "metadata": {},
   "source": [
    " object.Underline"
   ]
  },
  {
   "cell_type": "markdown",
   "metadata": {},
   "source": [
    "# 11. What is the difference between False, True, and None for the bold variable?"
   ]
  },
  {
   "cell_type": "markdown",
   "metadata": {},
   "source": [
    "Symbolic Excuses on False Pretenses or True Reconciliation out of Sincere Regret. None of the other dependent variables showed any effect "
   ]
  },
  {
   "cell_type": "markdown",
   "metadata": {},
   "source": [
    "# 12. How do you make a new Word document's Document object?"
   ]
  },
  {
   "cell_type": "markdown",
   "metadata": {},
   "source": [
    "By using docx.Document()"
   ]
  },
  {
   "cell_type": "markdown",
   "metadata": {},
   "source": [
    "# 13. How do you add a paragraph to a Document object stored in a variable called doc with the text 'Hello, there!'?"
   ]
  },
  {
   "cell_type": "markdown",
   "metadata": {},
   "source": [
    "By using add_paragraph() method"
   ]
  },
  {
   "cell_type": "code",
   "execution_count": null,
   "metadata": {},
   "outputs": [],
   "source": []
  },
  {
   "cell_type": "code",
   "execution_count": null,
   "metadata": {},
   "outputs": [],
   "source": []
  }
 ],
 "metadata": {
  "kernelspec": {
   "display_name": "Python 3",
   "language": "python",
   "name": "python3"
  },
  "language_info": {
   "codemirror_mode": {
    "name": "ipython",
    "version": 3
   },
   "file_extension": ".py",
   "mimetype": "text/x-python",
   "name": "python",
   "nbconvert_exporter": "python",
   "pygments_lexer": "ipython3",
   "version": "3.7.3"
  }
 },
 "nbformat": 4,
 "nbformat_minor": 2
}
