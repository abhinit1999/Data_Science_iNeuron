{
 "cells": [
  {
   "cell_type": "markdown",
   "metadata": {},
   "source": [
    "# 1. Add the current date to the text file today.txt as a string.\n"
   ]
  },
  {
   "cell_type": "code",
   "execution_count": 6,
   "metadata": {},
   "outputs": [],
   "source": [
    "from datetime import date\n",
    "\n",
    "d=date.today()\n",
    "str_=d.isoformat()\n",
    "with open('today.txt','wt') as f:\n",
    "    print(str_,file=f)\n"
   ]
  },
  {
   "cell_type": "markdown",
   "metadata": {},
   "source": [
    "# 2. Read the text file today.txt into the string today_string\n"
   ]
  },
  {
   "cell_type": "code",
   "execution_count": 10,
   "metadata": {},
   "outputs": [
    {
     "data": {
      "text/plain": [
       "''"
      ]
     },
     "execution_count": 10,
     "metadata": {},
     "output_type": "execute_result"
    }
   ],
   "source": [
    "with open('today.txt','rt') as f:\n",
    "    today_str=f.read()\n",
    "today_str    "
   ]
  },
  {
   "cell_type": "markdown",
   "metadata": {},
   "source": [
    "# 3. Parse the date from today_string.\n"
   ]
  },
  {
   "cell_type": "code",
   "execution_count": 18,
   "metadata": {},
   "outputs": [],
   "source": [
    "import multiprocessing\n",
    "def now(seconds):\n",
    "    from datetime import datetime\n",
    "    from time import sleep\n",
    "    sleep(seconds)\n",
    "    print('wait',seconds,' seconds, time is ', datetime.utcnow())\n",
    "\n",
    "import random\n",
    "for n in range(3):\n",
    "    seconds=random.random()\n",
    "    proc=multiprocessing.Process(target=now,args=(seconds,))\n",
    "    proc.start()"
   ]
  },
  {
   "cell_type": "markdown",
   "metadata": {},
   "source": [
    "# 4. List the files in your current directory\n"
   ]
  },
  {
   "cell_type": "code",
   "execution_count": 26,
   "metadata": {},
   "outputs": [
    {
     "data": {
      "text/plain": [
       "[' .txt',\n",
       " '..txt',\n",
       " '.anaconda',\n",
       " '.android',\n",
       " '.AndroidStudio3.2',\n",
       " '.AndroidStudio3.5',\n",
       " '.AndroidStudio4.0',\n",
       " '.bash_history',\n",
       " '.cache',\n",
       " '.conda',\n",
       " '.condarc',\n",
       " '.config',\n",
       " '.designer',\n",
       " '.eclipse',\n",
       " '.emulator_console_auth_token',\n",
       " '.gitconfig',\n",
       " '.gradle',\n",
       " '.idea',\n",
       " '.IdeaIC2018.1',\n",
       " '.idlerc',\n",
       " '.ipynb_checkpoints',\n",
       " '.ipython',\n",
       " '.julia',\n",
       " '.jupyter',\n",
       " '.keras',\n",
       " '.kivy',\n",
       " '.lesshst',\n",
       " '.matplotlib',\n",
       " '.metadata',\n",
       " '.nbi',\n",
       " '.node_repl_history',\n",
       " '.openjfx',\n",
       " '.p2',\n",
       " '.packettracer',\n",
       " '.PyCharm2019.2',\n",
       " '.PyCharmCE2019.1',\n",
       " '.pyforest',\n",
       " '.pylint.d',\n",
       " '.pynche',\n",
       " '.python_history',\n",
       " '.redhat',\n",
       " '.sfdx',\n",
       " '.soapuios',\n",
       " '.spyder-py3',\n",
       " '.tooling',\n",
       " '.txt',\n",
       " '.VirtualBox',\n",
       " '.virtual_documents',\n",
       " '.vscode',\n",
       " '.yarnrc',\n",
       " '14.ipynb',\n",
       " '15.ipynb',\n",
       " '16.ipynb',\n",
       " '17.ipynb',\n",
       " '18.ipynb',\n",
       " '19.ipynb',\n",
       " '1stQ.ipynb',\n",
       " '20.ipynb',\n",
       " '21.ipynb',\n",
       " '2ndQ.ipynb',\n",
       " '3D Objects',\n",
       " 'Admission.csv',\n",
       " 'Admission.ipynb',\n",
       " 'Admission_Lr_model.pickle',\n",
       " 'AppData',\n",
       " 'Application Data',\n",
       " 'book.csv',\n",
       " 'book.db',\n",
       " 'books.db',\n",
       " 'build',\n",
       " 'Car.csv',\n",
       " 'Cisco Packet Tracer 7.3.0',\n",
       " 'Contacts',\n",
       " 'Cookies',\n",
       " 'default-soapui-workspace.xml',\n",
       " 'dist',\n",
       " 'Documents',\n",
       " 'Downloads',\n",
       " 'Dropbox',\n",
       " 'eclipse',\n",
       " 'eclipse-workspace',\n",
       " 'fast.py',\n",
       " 'Favorites',\n",
       " 'first.py',\n",
       " 'Google Drive',\n",
       " 'IBA_IOAPDATA',\n",
       " 'IdeaProjects',\n",
       " 'IntelGraphicsProfiles',\n",
       " 'Links',\n",
       " 'Local Settings',\n",
       " 'LPU',\n",
       " 'MicrosoftEdgeBackups',\n",
       " 'ML_1.ipynb',\n",
       " 'ML_2.ipynb',\n",
       " 'ML_3.ipynb',\n",
       " 'ML_4.ipynb',\n",
       " 'ML_5.ipynb',\n",
       " 'ML_6.ipynb',\n",
       " 'Music',\n",
       " 'My Documents',\n",
       " 'NetHood',\n",
       " 'New doc 27-Sep-2021 1.13 pm.pdf',\n",
       " 'node_modules',\n",
       " 'NTUSER.DAT',\n",
       " 'ntuser.dat.LOG1',\n",
       " 'ntuser.dat.LOG2',\n",
       " 'NTUSER.DAT{3abc63b4-a40f-11ea-b6a0-ae8b99f55f8e}.TM.blf',\n",
       " 'NTUSER.DAT{3abc63b4-a40f-11ea-b6a0-ae8b99f55f8e}.TMContainer00000000000000000001.regtrans-ms',\n",
       " 'NTUSER.DAT{3abc63b4-a40f-11ea-b6a0-ae8b99f55f8e}.TMContainer00000000000000000002.regtrans-ms',\n",
       " 'ntuser.ini',\n",
       " 'OneDrive',\n",
       " 'package-lock.json',\n",
       " 'Postman',\n",
       " 'Postman Agent',\n",
       " 'PrintHood',\n",
       " 'projectFilesBackup',\n",
       " 'python-getting-started',\n",
       " 'Recent',\n",
       " 'Saved Games',\n",
       " 'Searches',\n",
       " 'SendTo',\n",
       " 'SET-2 Q1.txt',\n",
       " 'SET-2 Q2.txt',\n",
       " 'soapui-settings.xml',\n",
       " 'SoapUI-Tutorials',\n",
       " 'Start Menu',\n",
       " 'Templates',\n",
       " 'test.txt',\n",
       " 'today.txt',\n",
       " 'Tracing',\n",
       " 'Untitled Folder',\n",
       " 'Untitled.ipynb',\n",
       " 'Untitled1.ipynb',\n",
       " 'vcpkg',\n",
       " 'venv',\n",
       " 'Videos',\n",
       " 'wine.csv.csv',\n",
       " 'zoo.ipynb',\n",
       " 'zoo.py',\n",
       " '_netrc',\n",
       " '__pycache__',\n",
       " '€.txt']"
      ]
     },
     "execution_count": 26,
     "metadata": {},
     "output_type": "execute_result"
    }
   ],
   "source": [
    "\n",
    "import os\n",
    "files = os.listdir(os.curdir)\n",
    "# files = [ f for f in os.listdir( os.curdir ) if os.path.isfile(f) ]\n",
    "files"
   ]
  },
  {
   "cell_type": "markdown",
   "metadata": {},
   "source": [
    "# 5. Create a list of all of the files in your parent directory (minimum five files should be available).\n"
   ]
  },
  {
   "cell_type": "code",
   "execution_count": null,
   "metadata": {},
   "outputs": [],
   "source": [
    "import os\n",
    "\n",
    "def getListOfFiles(dirName):\n",
    "\n",
    "    listOfFile = os.listdir(dirName)\n",
    "    allFiles = list()\n",
    "    for entry in listOfFile:\n",
    "        fullPath = os.path.join(dirName, entry)\n",
    "        if os.path.isdir(fullPath):\n",
    "            allFiles = allFiles + getListOfFiles(fullPath)\n",
    "        else:\n",
    "            allFiles.append(fullPath)\n",
    "                \n",
    "    return allFiles        \n",
    "def main():\n",
    "    \n",
    "    dirName = os.curdir;\n",
    "    \n",
    "    listOfFiles = getListOfFiles(dirName)\n",
    "    \n",
    " \n",
    "    for elem in listOfFiles:\n",
    "        print(elem)\n",
    "    print (\"****************\")\n",
    "    \n",
    "    listOfFiles = list()\n",
    "    for (dirpath, dirnames, filenames) in os.walk(dirName):\n",
    "        listOfFiles += [os.path.join(dirpath, file) for file in filenames]\n",
    "        \n",
    "          \n",
    "    for elem in listOfFiles:\n",
    "        print(elem)    \n",
    "        \n",
    "        \n",
    "        \n",
    "        \n",
    "if __name__ == '__main__':\n",
    "    main()"
   ]
  },
  {
   "cell_type": "markdown",
   "metadata": {},
   "source": [
    "# 6. Use multiprocessing to create three separate processes. Make each one wait a random number of seconds between one and five, print the current time, and then exit.\n"
   ]
  },
  {
   "cell_type": "code",
   "execution_count": null,
   "metadata": {},
   "outputs": [],
   "source": []
  },
  {
   "cell_type": "markdown",
   "metadata": {},
   "source": [
    "# 7. Create a date object of your day of birth.\n",
    "\n"
   ]
  },
  {
   "cell_type": "code",
   "execution_count": 33,
   "metadata": {},
   "outputs": [],
   "source": [
    "import datetime\n",
    "\n",
    "date = datetime.datetime(1999,12,12)\n"
   ]
  },
  {
   "cell_type": "markdown",
   "metadata": {},
   "source": [
    "# 8. What day of the week was your day of birth?\n"
   ]
  },
  {
   "cell_type": "code",
   "execution_count": 42,
   "metadata": {},
   "outputs": [
    {
     "name": "stdout",
     "output_type": "stream",
     "text": [
      "Sunday\n"
     ]
    }
   ],
   "source": [
    "import datetime\n",
    "import calendar\n",
    " \n",
    "def findDay(date):\n",
    "    born = datetime.datetime.weekday(date)\n",
    "    return (calendar.day_name[born])\n",
    "\n",
    "date = datetime.datetime(1999,12,12)\n",
    "print(findDay(date))"
   ]
  },
  {
   "cell_type": "markdown",
   "metadata": {},
   "source": [
    "# 9. When will you be (or when were you) 10,000 days old?\n"
   ]
  },
  {
   "cell_type": "code",
   "execution_count": 47,
   "metadata": {},
   "outputs": [
    {
     "name": "stdout",
     "output_type": "stream",
     "text": [
      "22 years\n"
     ]
    }
   ],
   "source": [
    "from datetime import date\n",
    " \n",
    "def calculateAge(birthDate):\n",
    "    today = date.today()\n",
    "    age = today.year - birthDate.year -((today.month, today.day) < (birthDate.month, birthDate.day))\n",
    " \n",
    "    return age\n",
    "     \n",
    "print(calculateAge(date(1999,12,12)), \"years\")"
   ]
  },
  {
   "cell_type": "code",
   "execution_count": null,
   "metadata": {},
   "outputs": [],
   "source": []
  },
  {
   "cell_type": "code",
   "execution_count": null,
   "metadata": {},
   "outputs": [],
   "source": []
  }
 ],
 "metadata": {
  "kernelspec": {
   "display_name": "Python 3",
   "language": "python",
   "name": "python3"
  },
  "language_info": {
   "codemirror_mode": {
    "name": "ipython",
    "version": 3
   },
   "file_extension": ".py",
   "mimetype": "text/x-python",
   "name": "python",
   "nbconvert_exporter": "python",
   "pygments_lexer": "ipython3",
   "version": "3.7.3"
  }
 },
 "nbformat": 4,
 "nbformat_minor": 2
}
