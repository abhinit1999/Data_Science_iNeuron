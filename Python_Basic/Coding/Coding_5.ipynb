{
 "cells": [
  {
   "cell_type": "markdown",
   "metadata": {},
   "source": [
    "# 1.\tWrite a Python Program to Find LCM?"
   ]
  },
  {
   "cell_type": "code",
   "execution_count": 3,
   "metadata": {},
   "outputs": [
    {
     "name": "stdout",
     "output_type": "stream",
     "text": [
      "Enter first number: 5\n",
      "Enter second number: 6\n",
      "The L.C.M. of 5 and 6 is 30\n"
     ]
    }
   ],
   "source": [
    "def find_lcm(x, y):  \n",
    "   if x > y:  \n",
    "       greater = x  \n",
    "   else:  \n",
    "       greater = y  \n",
    "   while(True):  \n",
    "       if((greater % x == 0) and (greater % y == 0)):  \n",
    "           lcm = greater  \n",
    "           break  \n",
    "       greater += 1  \n",
    "   return lcm  \n",
    "  \n",
    "  \n",
    "num1 = int(input(\"Enter first number: \"))  \n",
    "num2 = int(input(\"Enter second number: \"))  \n",
    "print(\"The L.C.M. of\", num1,\"and\", num2,\"is\", find_lcm(num1, num2)) "
   ]
  },
  {
   "cell_type": "markdown",
   "metadata": {},
   "source": [
    "# 2.\tWrite a Python Program to Find HCF?"
   ]
  },
  {
   "cell_type": "code",
   "execution_count": 4,
   "metadata": {},
   "outputs": [
    {
     "name": "stdout",
     "output_type": "stream",
     "text": [
      "Enter first number: 8\n",
      "Enter second number: 12\n",
      "The H.C.F. of 8 and 12 is 4\n"
     ]
    }
   ],
   "source": [
    "def find_hcf(x, y):  \n",
    "   if x > y:  \n",
    "       smaller = y  \n",
    "   else:  \n",
    "       smaller = x  \n",
    "   for i in range(1,smaller + 1):  \n",
    "       if((x % i == 0) and (y % i == 0)):  \n",
    "           hcf = i  \n",
    "   return hcf  \n",
    "  \n",
    "num1 = int(input(\"Enter first number: \"))  \n",
    "num2 = int(input(\"Enter second number: \"))  \n",
    "print(\"The H.C.F. of\", num1,\"and\", num2,\"is\", find_hcf(num1, num2))  "
   ]
  },
  {
   "cell_type": "markdown",
   "metadata": {},
   "source": [
    "# 3.\tWrite a Python Program to Convert Decimal to Binary, Octal and Hexadecimal?"
   ]
  },
  {
   "cell_type": "code",
   "execution_count": 6,
   "metadata": {},
   "outputs": [
    {
     "name": "stdout",
     "output_type": "stream",
     "text": [
      "Enter a decimal number: 2\n",
      "0b10 in binary.\n",
      "0o2 in octal.\n",
      "0x2 in hexadecimal.\n"
     ]
    }
   ],
   "source": [
    "num = int(input(\"Enter a decimal number: \"))  \n",
    "  \n",
    "print(bin(num),\"in binary.\")  \n",
    "print(oct(num),\"in octal.\")  \n",
    "print(hex(num),\"in hexadecimal.\")"
   ]
  },
  {
   "cell_type": "markdown",
   "metadata": {},
   "source": [
    "# 4.\tWrite a Python Program To Find ASCII value of a character?"
   ]
  },
  {
   "cell_type": "code",
   "execution_count": 11,
   "metadata": {},
   "outputs": [
    {
     "name": "stdout",
     "output_type": "stream",
     "text": [
      "Enter A Character:  A\n",
      "The ASCII value of 'A' is 65\n"
     ]
    }
   ],
   "source": [
    "character=input(\"Enter A Character:  \")\n",
    "print(\"The ASCII value of '\" + character + \"' is\", ord(character))"
   ]
  },
  {
   "cell_type": "markdown",
   "metadata": {},
   "source": [
    "# 5.\tWrite a Python Program to Make a Simple Calculator with 4 basic mathematical operations?\n"
   ]
  },
  {
   "cell_type": "code",
   "execution_count": 1,
   "metadata": {},
   "outputs": [
    {
     "name": "stdout",
     "output_type": "stream",
     "text": [
      "What You Want to Do: \n",
      "1.Add\n",
      "2.Subtract\n",
      "3.Multiply\n",
      "4.Divide\n",
      "Enter choice:  1\n",
      "Enter first number: 5\n",
      "Enter second number: 20\n",
      "5 + 20 = 25\n"
     ]
    }
   ],
   "source": [
    "def add(x, y):  \n",
    "   return x + y \n",
    "def subtract(x, y): \n",
    "   return x - y \n",
    "def multiply(x, y):  \n",
    "   return x * y \n",
    "def divide(x, y): \n",
    "    return x / y  \n",
    "\n",
    " \n",
    "print(\"What You Want to Do: \")  \n",
    "print(\"1.Add\")  \n",
    "print(\"2.Subtract\")  \n",
    "print(\"3.Multiply\")  \n",
    "print(\"4.Divide\")  \n",
    "  \n",
    " \n",
    "choice = input(\"Enter choice:  \")  \n",
    "num1 = int(input(\"Enter first number: \"))  \n",
    "num2 = int(input(\"Enter second number: \"))  \n",
    "  \n",
    "if choice == '1':  \n",
    "   print(num1,\"+\",num2,\"=\", add(num1,num2))  \n",
    "  \n",
    "elif choice == '2':  \n",
    "   print(num1,\"-\",num2,\"=\", subtract(num1,num2))  \n",
    "  \n",
    "elif choice == '3':  \n",
    "   print(num1,\"*\",num2,\"=\", multiply(num1,num2))  \n",
    "elif choice == '4':  \n",
    "   print(num1,\"/\",num2,\"=\", divide(num1,num2))  \n",
    "else:  \n",
    "   print(\"Invalid input\") "
   ]
  },
  {
   "cell_type": "code",
   "execution_count": null,
   "metadata": {},
   "outputs": [],
   "source": []
  }
 ],
 "metadata": {
  "kernelspec": {
   "display_name": "Python 3",
   "language": "python",
   "name": "python3"
  },
  "language_info": {
   "codemirror_mode": {
    "name": "ipython",
    "version": 3
   },
   "file_extension": ".py",
   "mimetype": "text/x-python",
   "name": "python",
   "nbconvert_exporter": "python",
   "pygments_lexer": "ipython3",
   "version": "3.7.3"
  }
 },
 "nbformat": 4,
 "nbformat_minor": 2
}
