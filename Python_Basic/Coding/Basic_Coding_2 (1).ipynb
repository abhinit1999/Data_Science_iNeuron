{
 "cells": [
  {
   "cell_type": "markdown",
   "metadata": {},
   "source": [
    "# 1.\tWrite a Python program to convert kilometers to miles?\n",
    "\n"
   ]
  },
  {
   "cell_type": "code",
   "execution_count": 2,
   "metadata": {},
   "outputs": [
    {
     "name": "stdout",
     "output_type": "stream",
     "text": [
      "Enter Kilometer to convert into miles : 5\n",
      "Total miles :  3.106855\n"
     ]
    }
   ],
   "source": [
    "x=int(input(\"Enter Kilometer to convert into miles : \"))\n",
    "km_1=0.621371\n",
    "print(\"Total miles : \",(x*km_1))"
   ]
  },
  {
   "cell_type": "markdown",
   "metadata": {},
   "source": [
    "# 2.\tWrite a Python program to convert Celsius to Fahrenheit?\n",
    "\n"
   ]
  },
  {
   "cell_type": "code",
   "execution_count": 4,
   "metadata": {},
   "outputs": [
    {
     "name": "stdout",
     "output_type": "stream",
     "text": [
      "Enter temperature in celsius: 37\n",
      "Fahrenheit : 98.6\n"
     ]
    }
   ],
   "source": [
    "cel = float(input(\"Enter temperature in celsius: \"))\n",
    "print(\"Fahrenheit :\",(cel * 9/5) + 32 )"
   ]
  },
  {
   "cell_type": "markdown",
   "metadata": {},
   "source": [
    "# 3. Write a Python program to display calendar?"
   ]
  },
  {
   "cell_type": "code",
   "execution_count": 6,
   "metadata": {},
   "outputs": [
    {
     "name": "stdout",
     "output_type": "stream",
     "text": [
      "Enter year like(2021) : 2021\n",
      "Enter month like(3) : 5\n",
      "      May 2021\n",
      "Mo Tu We Th Fr Sa Su\n",
      "                1  2\n",
      " 3  4  5  6  7  8  9\n",
      "10 11 12 13 14 15 16\n",
      "17 18 19 20 21 22 23\n",
      "24 25 26 27 28 29 30\n",
      "31\n",
      "\n"
     ]
    }
   ],
   "source": [
    "import calendar   \n",
    "year = int(input(\"Enter year like(2021) : \"))  \n",
    "month = int(input(\"Enter month like(3) : \")) \n",
    "print(calendar.month(year,month))"
   ]
  },
  {
   "cell_type": "markdown",
   "metadata": {},
   "source": [
    "# 4. Write a Python program to solve quadratic equation?"
   ]
  },
  {
   "cell_type": "code",
   "execution_count": 1,
   "metadata": {},
   "outputs": [
    {
     "name": "stdout",
     "output_type": "stream",
     "text": [
      "Enter the value of a :  1\n",
      "Enter the value of b :  2\n",
      "Enter the value of c :  3\n",
      "The roots are\n",
      "(-1-1.4142135623730951j)\n",
      "(-1+1.4142135623730951j)\n"
     ]
    }
   ],
   "source": [
    "import cmath\n",
    "  \n",
    "a = int(input(\"Enter the value of a :  \"))\n",
    "b = int(input(\"Enter the value of b :  \"))\n",
    "c = int(input(\"Enter the value of c :  \"))\n",
    "dis = (b**2) - (4 * a*c)\n",
    "ans1 = (-b-cmath.sqrt(dis))/(2 * a)\n",
    "ans2 = (-b + cmath.sqrt(dis))/(2 * a)\n",
    "print('The roots are')\n",
    "print(ans1)\n",
    "print(ans2)"
   ]
  },
  {
   "cell_type": "markdown",
   "metadata": {},
   "source": [
    "# 5. Write a Python program to swap two variables without temp variable?"
   ]
  },
  {
   "cell_type": "code",
   "execution_count": 2,
   "metadata": {},
   "outputs": [
    {
     "name": "stdout",
     "output_type": "stream",
     "text": [
      "Enter first value:  5\n",
      "Enter first value:  10\n",
      "Before swaping:  X =  5  Y =  10\n",
      "After swaping X =  10  Y =  5\n"
     ]
    }
   ],
   "source": [
    "x=int(input(\"Enter first value:  \"))\n",
    "y=int(input(\"Enter first value:  \"))\n",
    "print(\"Before swaping:  X = \",x,\" Y = \",y)\n",
    "x,y=y,x\n",
    "print(\"After swaping X = \",x,\" Y = \",y)"
   ]
  },
  {
   "cell_type": "code",
   "execution_count": null,
   "metadata": {},
   "outputs": [],
   "source": []
  }
 ],
 "metadata": {
  "kernelspec": {
   "display_name": "Python 3",
   "language": "python",
   "name": "python3"
  },
  "language_info": {
   "codemirror_mode": {
    "name": "ipython",
    "version": 3
   },
   "file_extension": ".py",
   "mimetype": "text/x-python",
   "name": "python",
   "nbconvert_exporter": "python",
   "pygments_lexer": "ipython3",
   "version": "3.7.3"
  }
 },
 "nbformat": 4,
 "nbformat_minor": 2
}
