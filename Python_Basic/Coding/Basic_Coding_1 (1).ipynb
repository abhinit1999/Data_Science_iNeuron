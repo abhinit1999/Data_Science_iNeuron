{
 "cells": [
  {
   "cell_type": "markdown",
   "metadata": {},
   "source": [
    "# 1.\tWrite a Python program to print \"Hello Python\"?"
   ]
  },
  {
   "cell_type": "code",
   "execution_count": 1,
   "metadata": {},
   "outputs": [
    {
     "name": "stdout",
     "output_type": "stream",
     "text": [
      "Hello Python\n"
     ]
    }
   ],
   "source": [
    "print(\"Hello Python\")"
   ]
  },
  {
   "cell_type": "markdown",
   "metadata": {},
   "source": [
    "# 2.\tWrite a Python program to do arithmetical operations addition and division.?"
   ]
  },
  {
   "cell_type": "code",
   "execution_count": 2,
   "metadata": {},
   "outputs": [
    {
     "name": "stdout",
     "output_type": "stream",
     "text": [
      "First Number : 10\n",
      "Second Number : 5\n",
      "Addition :  15\n",
      "Division :  2.0\n"
     ]
    }
   ],
   "source": [
    "n1=int(input(\"First Number : \"))\n",
    "n2=int(input(\"Second Number : \"))\n",
    "print(\"Addition : \",(n1+n2))\n",
    "print(\"Division : \", (n1/n2))"
   ]
  },
  {
   "cell_type": "markdown",
   "metadata": {},
   "source": [
    "# 3.\tWrite a Python program to find the area of a triangle?"
   ]
  },
  {
   "cell_type": "code",
   "execution_count": 3,
   "metadata": {},
   "outputs": [
    {
     "name": "stdout",
     "output_type": "stream",
     "text": [
      "A : 5\n",
      "B : 6\n",
      "C :7\n",
      "The area of the triangle is 14.70\n"
     ]
    }
   ],
   "source": [
    "a=float(input(\"A : \"))\n",
    "b=float(input(\"B : \"))\n",
    "c=float(input(\"C :\"))\n",
    "s = (a + b + c) / 2\n",
    "area = (s*(s-a)*(s-b)*(s-c)) ** 0.5\n",
    "print('The area of the triangle is %0.2f' %area)"
   ]
  },
  {
   "cell_type": "markdown",
   "metadata": {},
   "source": [
    "# 4.\tWrite a Python program to swap two variables?"
   ]
  },
  {
   "cell_type": "code",
   "execution_count": 4,
   "metadata": {},
   "outputs": [
    {
     "name": "stdout",
     "output_type": "stream",
     "text": [
      "First Number : 5\n",
      "Second Number : 10\n",
      "Befor swaping A =  5  And B :  10\n",
      "After swaping A =  10  And B :  5\n"
     ]
    }
   ],
   "source": [
    "a=int(input(\"First Number : \"))\n",
    "b=int(input(\"Second Number : \"))\n",
    "print(\"Befor swaping A = \",a,\" And B : \",b)\n",
    "temp=a\n",
    "a=b\n",
    "b=temp\n",
    "print(\"After swaping A = \",a,\" And B : \",b)"
   ]
  },
  {
   "cell_type": "code",
   "execution_count": 6,
   "metadata": {},
   "outputs": [
    {
     "name": "stdout",
     "output_type": "stream",
     "text": [
      "First Number : 10\n",
      "Second Number : 20\n",
      "After swaping A =  20  And B :  10\n"
     ]
    }
   ],
   "source": [
    "# And Second Methode\n",
    "a=int(input(\"First Number : \"))\n",
    "b=int(input(\"Second Number : \"))\n",
    "a,b=b,a\n",
    "print(\"After swaping A = \",a,\" And B : \",b)"
   ]
  },
  {
   "cell_type": "markdown",
   "metadata": {},
   "source": [
    "# 5.\tWrite a Python program to generate a random number?"
   ]
  },
  {
   "cell_type": "code",
   "execution_count": 8,
   "metadata": {},
   "outputs": [
    {
     "name": "stdout",
     "output_type": "stream",
     "text": [
      "Lower range0\n",
      "Upper range100\n",
      " Random Number Between  0  And  100  Is : 15\n"
     ]
    }
   ],
   "source": [
    "import random\n",
    "a=int(input(\"Lower range\"))\n",
    "b=int(input(\"Upper range\"))\n",
    "print(\" Random Number Between \",a,\" And \", b,\" Is :\", random.randint(a,b))"
   ]
  },
  {
   "cell_type": "code",
   "execution_count": null,
   "metadata": {},
   "outputs": [],
   "source": []
  }
 ],
 "metadata": {
  "kernelspec": {
   "display_name": "Python 3",
   "language": "python",
   "name": "python3"
  },
  "language_info": {
   "codemirror_mode": {
    "name": "ipython",
    "version": 3
   },
   "file_extension": ".py",
   "mimetype": "text/x-python",
   "name": "python",
   "nbconvert_exporter": "python",
   "pygments_lexer": "ipython3",
   "version": "3.7.3"
  }
 },
 "nbformat": 4,
 "nbformat_minor": 2
}
