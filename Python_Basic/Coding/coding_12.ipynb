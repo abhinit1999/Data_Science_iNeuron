{
 "cells": [
  {
   "cell_type": "markdown",
   "metadata": {},
   "source": [
    "# 1.\tWrite a Python program to Extract Unique values dictionary values?"
   ]
  },
  {
   "cell_type": "code",
   "execution_count": 6,
   "metadata": {},
   "outputs": [
    {
     "name": "stdout",
     "output_type": "stream",
     "text": [
      "enter a n value:3\n",
      "a\n",
      "20\n",
      "b\n",
      "20\n",
      "c\n",
      "10\n",
      "Unique Values:  {10, 20}\n"
     ]
    }
   ],
   "source": [
    "n = int(input(\"enter a n value:\"))\n",
    "d = {}\n",
    "\n",
    "for i in range(n):\n",
    "    keys = input()\n",
    "    values = int(input())\n",
    "    d[keys] = values\n",
    "u_value = set( val for dic in d for val in d.values())\n",
    "print(\"Unique Values: \",u_value)"
   ]
  },
  {
   "cell_type": "markdown",
   "metadata": {},
   "source": [
    "# 2.\tWrite a Python program to find the sum of all items in a dictionary?"
   ]
  },
  {
   "cell_type": "code",
   "execution_count": 7,
   "metadata": {},
   "outputs": [
    {
     "name": "stdout",
     "output_type": "stream",
     "text": [
      "enter a n value:3\n",
      "a\n",
      "10\n",
      "b\n",
      "20\n",
      "c\n",
      "30\n",
      "Sum : 60\n"
     ]
    }
   ],
   "source": [
    "def Dic_Sum(myDict):\n",
    "      \n",
    "    sum = 0\n",
    "    for i in myDict:\n",
    "        sum = sum + myDict[i]\n",
    "      \n",
    "    return sum\n",
    "n = int(input(\"enter a n value:\"))\n",
    "d = {}\n",
    "\n",
    "for i in range(n):\n",
    "    keys = input()\n",
    "    values = int(input())\n",
    "    d[keys] = values\n",
    "print(\"Sum :\", Dic_Sum(d))"
   ]
  },
  {
   "cell_type": "markdown",
   "metadata": {},
   "source": [
    "# 3.\tWrite a Python program to Merging two Dictionaries?"
   ]
  },
  {
   "cell_type": "code",
   "execution_count": 9,
   "metadata": {},
   "outputs": [
    {
     "name": "stdout",
     "output_type": "stream",
     "text": [
      "{'a': 10, 'b': 20, 'c': 30, 'd': 40, 'e': 50, 'f': 60}\n"
     ]
    }
   ],
   "source": [
    "dict1 = {'a': 10, 'b': 20,'c':30}\n",
    "dict2 = {'d': 40, 'e': 50,'f':60}\n",
    "d = dict1.copy()\n",
    "d.update(dict2)\n",
    "print(d)"
   ]
  },
  {
   "cell_type": "markdown",
   "metadata": {},
   "source": [
    "# 4.\tWrite a Python program to convert key-values list to flat dictionary?"
   ]
  },
  {
   "cell_type": "code",
   "execution_count": 15,
   "metadata": {},
   "outputs": [
    {
     "name": "stdout",
     "output_type": "stream",
     "text": [
      "{'Abhinit': '10', 'iNeuron': '20', 'LPU': '30'}\n"
     ]
    }
   ],
   "source": [
    "dic= {'Name' : ['Abhinit', 'iNeuron', 'LPU'],'Values' : ['10', '20', '30']}\n",
    "print(str(dict(zip(dic['Name'],dic['Values'])))) "
   ]
  },
  {
   "cell_type": "markdown",
   "metadata": {},
   "source": [
    "# 5.\tWrite a Python program to insertion at the beginning in OrderedDict?"
   ]
  },
  {
   "cell_type": "code",
   "execution_count": 19,
   "metadata": {},
   "outputs": [
    {
     "name": "stdout",
     "output_type": "stream",
     "text": [
      "OrderedDict([('Study', '40'), ('Abhinit', '10'), ('iNeuron', '20'), ('LPU', '30')])\n"
     ]
    }
   ],
   "source": [
    "from collections import OrderedDict\n",
    "dict = OrderedDict([('Abhinit', '10'), ('iNeuron', '20'), ('LPU', '30')])\n",
    "dict.update({'Study':'40'})\n",
    "dict.move_to_end('Study', last = False)\n",
    "print(dict)"
   ]
  },
  {
   "cell_type": "markdown",
   "metadata": {},
   "source": [
    "# 6.\tWrite a Python program to check order of character in string using OrderedDict()?"
   ]
  },
  {
   "cell_type": "code",
   "execution_count": 22,
   "metadata": {},
   "outputs": [
    {
     "name": "stdout",
     "output_type": "stream",
     "text": [
      "Enter String : iNeuron is the best place to study about Data science\n",
      "Entetr Pattern of string to check : uron\n",
      "true\n"
     ]
    }
   ],
   "source": [
    "from collections import OrderedDict   \n",
    "def order_of_str(input, pattern): \n",
    "    dict = OrderedDict.fromkeys(input) \n",
    "    ptrlen = 0\n",
    "    for key,value in dict.items(): \n",
    "        if (key == pattern[ptrlen]): \n",
    "            ptrlen = ptrlen + 1\n",
    "        if (ptrlen == (len(pattern))): \n",
    "            return 'true'\n",
    "    return 'false'\n",
    "\n",
    "str_inp = input(\"Enter String : \")\n",
    "ptr=input(\"Entetr Pattern of string to check : \")\n",
    "print (order_of_str(str_inp,ptr)) "
   ]
  },
  {
   "cell_type": "markdown",
   "metadata": {},
   "source": [
    "# 7.\tWrite a Python program to sort Python Dictionaries by Key or Value?"
   ]
  },
  {
   "cell_type": "code",
   "execution_count": 25,
   "metadata": {},
   "outputs": [
    {
     "name": "stdout",
     "output_type": "stream",
     "text": [
      "enter a n value:3\n",
      "c\n",
      "12\n",
      "a\n",
      "1222\n",
      "b\n",
      "30\n",
      "a b c "
     ]
    }
   ],
   "source": [
    "n = int(input(\"enter a n value:\"))\n",
    "d = {}\n",
    "\n",
    "for i in range(n):\n",
    "    keys = input()\n",
    "    values = int(input())\n",
    "    d[keys] = values\n",
    "for i in sorted (d.keys()) : \n",
    "    print(i, end = \" \")"
   ]
  },
  {
   "cell_type": "code",
   "execution_count": null,
   "metadata": {},
   "outputs": [],
   "source": []
  }
 ],
 "metadata": {
  "kernelspec": {
   "display_name": "Python 3",
   "language": "python",
   "name": "python3"
  },
  "language_info": {
   "codemirror_mode": {
    "name": "ipython",
    "version": 3
   },
   "file_extension": ".py",
   "mimetype": "text/x-python",
   "name": "python",
   "nbconvert_exporter": "python",
   "pygments_lexer": "ipython3",
   "version": "3.7.3"
  }
 },
 "nbformat": 4,
 "nbformat_minor": 2
}
