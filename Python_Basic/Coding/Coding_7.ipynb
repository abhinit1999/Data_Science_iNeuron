{
 "cells": [
  {
   "cell_type": "markdown",
   "metadata": {},
   "source": [
    "# 1.\tWrite a Python Program to find sum of array?"
   ]
  },
  {
   "cell_type": "code",
   "execution_count": 11,
   "metadata": {},
   "outputs": [
    {
     "name": "stdout",
     "output_type": "stream",
     "text": [
      "How many numbers you want to enter : 5\n",
      "Please enter the Value of 1 Element : 1\n",
      "Please enter the Value of 2 Element : 2\n",
      "Please enter the Value of 3 Element : 3\n",
      "Please enter the Value of 4 Element : 4\n",
      "Please enter the Value of 5 Element : 5\n",
      "\n",
      " Sum is :  15\n"
     ]
    }
   ],
   "source": [
    "l = []\n",
    "\n",
    "N = int(input(\"How many numbers you want to enter : \"))\n",
    "for i in range(1, N + 1):\n",
    "    num = int(input(\"Please enter the Value of %d Element : \" %i))\n",
    "    l.append(num)\n",
    "\n",
    "s = sum(l)\n",
    "\n",
    "print(\"\\n Sum is : \", s)"
   ]
  },
  {
   "cell_type": "markdown",
   "metadata": {},
   "source": [
    "### 2.\tWrite a Python Program to find largest element in an array?"
   ]
  },
  {
   "cell_type": "code",
   "execution_count": 17,
   "metadata": {},
   "outputs": [
    {
     "name": "stdout",
     "output_type": "stream",
     "text": [
      "How many numbers you want to enter : 5\n",
      "Please enter the Value of 1 Element : 1\n",
      "Please enter the Value of 2 Element : 3\n",
      "Please enter the Value of 3 Element : 7\n",
      "Please enter the Value of 4 Element : 8\n",
      "Please enter the Value of 5 Element : 10\n",
      "Largest number is:  10\n"
     ]
    }
   ],
   "source": [
    "\n",
    "def largest(l,n):\n",
    "    max = l[0]\n",
    "    for i in range(1, n):\n",
    "        if l[i] > max:\n",
    "            max = l[i]\n",
    "    return max\n",
    "  \n",
    "\n",
    "l = []\n",
    "N = int(input(\"How many numbers you want to enter : \"))\n",
    "for i in range(1, N + 1):\n",
    "    num = int(input(\"Please enter the Value of %d Element : \" %i))\n",
    "    l.append(num)\n",
    "\n",
    "print (\"Largest number is: \",largest(l,N))"
   ]
  },
  {
   "cell_type": "markdown",
   "metadata": {},
   "source": [
    "## 3.\tWrite a Python Program for array rotation?"
   ]
  },
  {
   "cell_type": "code",
   "execution_count": 19,
   "metadata": {},
   "outputs": [
    {
     "name": "stdout",
     "output_type": "stream",
     "text": [
      "How many numbers you want to enter : 5\n",
      "Please enter the Value of 1 Element : 1\n",
      "Please enter the Value of 2 Element : 2\n",
      "Please enter the Value of 3 Element : 3\n",
      "Please enter the Value of 4 Element : 4\n",
      "Please enter the Value of 5 Element : 5\n",
      "How many elements you want to rotate:   1\n",
      "Array after left rotation is:  [2, 3, 4, 5, 1]\n"
     ]
    }
   ],
   "source": [
    "def rotateArray(arr, n, d):\n",
    "    temp = []\n",
    "    i = 0\n",
    "    while (i < d):\n",
    "        temp.append(arr[i])\n",
    "        i = i + 1\n",
    "    i = 0\n",
    "    while (d < n):\n",
    "        arr[i] = arr[d]\n",
    "        i = i + 1\n",
    "        d = d + 1\n",
    "    arr[:] = arr[: i] + temp\n",
    "    return arr\n",
    " \n",
    " \n",
    "\n",
    "l = []\n",
    "N = int(input(\"How many numbers you want to enter : \"))\n",
    "for i in range(1, N + 1):\n",
    "    num = int(input(\"Please enter the Value of %d Element : \" %i))\n",
    "    l.append(num)\n",
    "rotate=int(input(\"How many elements you want to rotate:   \"))\n",
    "print(\"Array after left rotation is: \", end=' ')\n",
    "print(rotateArray(l, N,rotate))"
   ]
  },
  {
   "cell_type": "markdown",
   "metadata": {},
   "source": [
    "# 4.\tWrite a Python Program to Split the array and add the first part to the end?"
   ]
  },
  {
   "cell_type": "code",
   "execution_count": 22,
   "metadata": {},
   "outputs": [
    {
     "name": "stdout",
     "output_type": "stream",
     "text": [
      "How many numbers you want to enter : 3\n",
      "Please enter the Value of 1 Element : 1\n",
      "Please enter the Value of 2 Element : 2\n",
      "Please enter the Value of 3 Element : 3\n",
      "Enter Position:  1\n",
      "2 3 1 "
     ]
    }
   ],
   "source": [
    "def splitArr(arr, n, k): \n",
    "    for i in range(0, k): \n",
    "        x = arr[0]\n",
    "        for j in range(0, n-1):\n",
    "            arr[j] = arr[j + 1]\n",
    "          \n",
    "        arr[n-1] = x\n",
    "          \n",
    "  \n",
    "l = []\n",
    "N = int(input(\"How many numbers you want to enter : \"))\n",
    "for i in range(1, N + 1):\n",
    "    num = int(input(\"Please enter the Value of %d Element : \" %i))\n",
    "    l.append(num)\n",
    "position = int(input(\"Enter Position:  \"))\n",
    "  \n",
    "splitArr(l, N, position)\n",
    "  \n",
    "for i in range(0, N): \n",
    "    print(l[i], end = ' ')"
   ]
  },
  {
   "cell_type": "markdown",
   "metadata": {},
   "source": [
    "# 5.\tWrite a Python Program to check if given array is Monotonic?\n"
   ]
  },
  {
   "cell_type": "code",
   "execution_count": 25,
   "metadata": {},
   "outputs": [
    {
     "name": "stdout",
     "output_type": "stream",
     "text": [
      "How many numbers you want to enter : 3\n",
      "Please enter the Value of 1 Element : 1\n",
      "Please enter the Value of 2 Element : 4\n",
      "Please enter the Value of 3 Element : 2\n",
      "No\n"
     ]
    }
   ],
   "source": [
    "def isMonotonic(A):\n",
    "  \n",
    "    return (all(A[i] <= A[i + 1] for i in range(len(A) - 1)) or\n",
    "            all(A[i] >= A[i + 1] for i in range(len(A) - 1)))\n",
    "\n",
    "l = []\n",
    "N = int(input(\"How many numbers you want to enter : \"))\n",
    "for i in range(1, N + 1):\n",
    "    num = int(input(\"Please enter the Value of %d Element : \" %i))\n",
    "    l.append(num) \n",
    "if(isMonotonic(l)):\n",
    "    print(\"Yes\")\n",
    "else:\n",
    "    print(\"No\")"
   ]
  },
  {
   "cell_type": "code",
   "execution_count": null,
   "metadata": {},
   "outputs": [],
   "source": []
  }
 ],
 "metadata": {
  "kernelspec": {
   "display_name": "Python 3",
   "language": "python",
   "name": "python3"
  },
  "language_info": {
   "codemirror_mode": {
    "name": "ipython",
    "version": 3
   },
   "file_extension": ".py",
   "mimetype": "text/x-python",
   "name": "python",
   "nbconvert_exporter": "python",
   "pygments_lexer": "ipython3",
   "version": "3.7.3"
  }
 },
 "nbformat": 4,
 "nbformat_minor": 2
}
