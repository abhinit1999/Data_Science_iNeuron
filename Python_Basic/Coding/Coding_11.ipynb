{
 "cells": [
  {
   "cell_type": "markdown",
   "metadata": {},
   "source": [
    "# 1.\tWrite a Python program to find words which are greater than given length k?"
   ]
  },
  {
   "cell_type": "code",
   "execution_count": 2,
   "metadata": {},
   "outputs": [
    {
     "name": "stdout",
     "output_type": "stream",
     "text": [
      "Enter Strings : abhinit from Lovely professional university\n",
      "Enter the length of K:  5\n",
      "['abhinit', 'Lovely', 'professional', 'university']\n"
     ]
    }
   ],
   "source": [
    "def greater_than_k(k, str):\n",
    "    string = []\n",
    "    text = str.split(\" \")\n",
    "    for x in text:\n",
    "        if len(x) > k:\n",
    "            string.append(x)\n",
    "    return string\n",
    "  \n",
    "  \n",
    " \n",
    "\n",
    "str=input(\"Enter Strings : \")\n",
    "k = int(input(\"Enter the length of K:  \"))\n",
    "print(greater_than_k(k, str)) "
   ]
  },
  {
   "cell_type": "markdown",
   "metadata": {},
   "source": [
    "# 2.\tWrite a Python program for removing i-th character from a string?"
   ]
  },
  {
   "cell_type": "code",
   "execution_count": 7,
   "metadata": {},
   "outputs": [
    {
     "name": "stdout",
     "output_type": "stream",
     "text": [
      "Enter String :  university\n",
      "Enter the value of i : 5\n",
      "univesity\n"
     ]
    }
   ],
   "source": [
    "def remove_i_Th_Char(string, i): \n",
    "    x = string[ : i] \n",
    "    y = string[i + 1: ]\n",
    "    return x + y\n",
    "      \n",
    "str = input(\"Enter String :  \")\n",
    "i = int(input(\"Enter the value of i : \"))\n",
    "print(remove_i_Th_Char(str, i))"
   ]
  },
  {
   "cell_type": "markdown",
   "metadata": {},
   "source": [
    "# 3.\tWrite a Python program to split and join a string?"
   ]
  },
  {
   "cell_type": "code",
   "execution_count": 10,
   "metadata": {},
   "outputs": [
    {
     "name": "stdout",
     "output_type": "stream",
     "text": [
      "Enter String :  Lovely Professional University\n",
      "['Lovely', 'Professional', 'University']\n",
      "Lovely+Professional+University\n"
     ]
    }
   ],
   "source": [
    "def split_string(string):\n",
    "    list_string = string.split(' ')\n",
    "    return list_string\n",
    "  \n",
    "def join_string(list_string):\n",
    "    string = '+'.join(list_string) \n",
    "    return string\n",
    "\n",
    "\n",
    "str = input(\"Enter String :  \") \n",
    "string_list = split_string(str)\n",
    "print(string_list)\n",
    "new_string = join_string(string_list)\n",
    "print(new_string)"
   ]
  },
  {
   "cell_type": "markdown",
   "metadata": {},
   "source": [
    "# 4.\tWrite a Python to check if a given string is binary string or not?"
   ]
  },
  {
   "cell_type": "code",
   "execution_count": 16,
   "metadata": {},
   "outputs": [
    {
     "name": "stdout",
     "output_type": "stream",
     "text": [
      "Enter String :  102\n",
      "No\n"
     ]
    }
   ],
   "source": [
    "def check_binary_string(string) :\n",
    "    x= set(string)\n",
    "    y= {'0', '1'}\n",
    "    if y == x or x == {'0'} or x == {'1'}:\n",
    "        print(\"Yes\")\n",
    "    else :\n",
    "        print(\"No\")\n",
    "  \n",
    "  \n",
    "          \n",
    "str = input(\"Enter String :  \") \n",
    "check_binary_string(str)"
   ]
  },
  {
   "cell_type": "markdown",
   "metadata": {},
   "source": [
    "# 5.\tWrite a Python program to find uncommon words from two Strings?"
   ]
  },
  {
   "cell_type": "code",
   "execution_count": 19,
   "metadata": {},
   "outputs": [
    {
     "name": "stdout",
     "output_type": "stream",
     "text": [
      "Enter String :  Lovely Professional\n",
      "Enter String :  Ineuron Professional\n",
      "['Lovely', 'Ineuron']\n"
     ]
    }
   ],
   "source": [
    "def Uncommon_word_In_String(A, B):\n",
    "    count = {}\n",
    "    for word in A.split():\n",
    "        count[word] = count.get(word, 0) + 1\n",
    "    for word in B.split():\n",
    "        count[word] = count.get(word, 0) + 1\n",
    "    return [word for word in count if count[word] == 1]\n",
    "  \n",
    "          \n",
    "str1 = input(\"Enter String :  \")         \n",
    "str2 = input(\"Enter String :  \") \n",
    "print(Uncommon_word_In_String(str1,str2))"
   ]
  },
  {
   "cell_type": "markdown",
   "metadata": {},
   "source": [
    "# 6.\tWrite a Python to find all duplicate characters in string?"
   ]
  },
  {
   "cell_type": "code",
   "execution_count": 27,
   "metadata": {},
   "outputs": [
    {
     "name": "stdout",
     "output_type": "stream",
     "text": [
      "Enter String :  Professional\n",
      "['o', 's']\n"
     ]
    }
   ],
   "source": [
    "def find_duplicates(s):\n",
    "    elements = {}\n",
    "    for char in s:\n",
    "        if elements.get(char,None) != None:\n",
    "            elements[char]+=1\n",
    "        else:\n",
    "            elements[char] = 1\n",
    "    return [k for k,v in elements.items() if v>1]\n",
    "str= input(\"Enter String :  \") \n",
    "print(find_duplicates(str))"
   ]
  },
  {
   "cell_type": "markdown",
   "metadata": {},
   "source": [
    "# 7.\tWrite a Python Program to check if a string contains any special character?\n"
   ]
  },
  {
   "cell_type": "code",
   "execution_count": 30,
   "metadata": {},
   "outputs": [
    {
     "name": "stdout",
     "output_type": "stream",
     "text": [
      "Enter String :  Ineuron@@@@\n",
      "String is not accepted.\n"
     ]
    }
   ],
   "source": [
    "import re\n",
    "def Special_char_In_Str(string):\n",
    "    regex = re.compile('[@_!#$%^&*()<>?/\\|}{~:]')    \n",
    "    if(regex.search(string) == None):\n",
    "        print(\"String is accepted\")\n",
    "          \n",
    "    else:\n",
    "        print(\"String is not accepted.\")\n",
    "      \n",
    "str= input(\"Enter String :  \") \n",
    "Special_char_In_Str(str)"
   ]
  },
  {
   "cell_type": "code",
   "execution_count": null,
   "metadata": {},
   "outputs": [],
   "source": []
  }
 ],
 "metadata": {
  "kernelspec": {
   "display_name": "Python 3",
   "language": "python",
   "name": "python3"
  },
  "language_info": {
   "codemirror_mode": {
    "name": "ipython",
    "version": 3
   },
   "file_extension": ".py",
   "mimetype": "text/x-python",
   "name": "python",
   "nbconvert_exporter": "python",
   "pygments_lexer": "ipython3",
   "version": "3.7.3"
  }
 },
 "nbformat": 4,
 "nbformat_minor": 2
}
