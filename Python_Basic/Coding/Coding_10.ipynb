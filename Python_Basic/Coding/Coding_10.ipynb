{
 "cells": [
  {
   "cell_type": "markdown",
   "metadata": {},
   "source": [
    "# 1.\tWrite a Python program to find sum of elements in list?"
   ]
  },
  {
   "cell_type": "code",
   "execution_count": 8,
   "metadata": {},
   "outputs": [
    {
     "name": "stdout",
     "output_type": "stream",
     "text": [
      "How many you want to enter:  5\n",
      "1\n",
      "2\n",
      "3\n",
      "4\n",
      "5\n",
      "Sum:   15\n"
     ]
    }
   ],
   "source": [
    "num=int(input(\"How many you want to enter:  \"))\n",
    "l=[]\n",
    "for i in range(num):\n",
    "    n=int(input())\n",
    "    l.append(n)\n",
    "total=0 \n",
    "for ele in range(0, len(l)):\n",
    "    total = total + l[ele]\n",
    "print(\"Sum:  \", total)"
   ]
  },
  {
   "cell_type": "markdown",
   "metadata": {},
   "source": [
    "# 2.\tWrite a Python program to  Multiply all numbers in the list?"
   ]
  },
  {
   "cell_type": "code",
   "execution_count": 14,
   "metadata": {},
   "outputs": [
    {
     "name": "stdout",
     "output_type": "stream",
     "text": [
      "How many you want to enter:  3\n",
      "12\n",
      "5\n",
      "5\n",
      "Result :  300\n"
     ]
    }
   ],
   "source": [
    "def multiply_List(l) :\n",
    "    result = 1\n",
    "    for x in l:\n",
    "         result = result * x\n",
    "    return result\n",
    "     \n",
    "\n",
    "num=int(input(\"How many you want to enter:  \"))\n",
    "l=[]\n",
    "for i in range(num):\n",
    "    n=int(input())\n",
    "    l.append(n)\n",
    "print(\"Result : \",multiply_List(l))"
   ]
  },
  {
   "cell_type": "markdown",
   "metadata": {},
   "source": [
    "# 3.\tWrite a Python program to find smallest number in a list?"
   ]
  },
  {
   "cell_type": "code",
   "execution_count": 16,
   "metadata": {},
   "outputs": [
    {
     "name": "stdout",
     "output_type": "stream",
     "text": [
      "How many you want to enter:  5\n",
      "1\n",
      "2\n",
      "3\n",
      "-9\n",
      "0\n",
      "Smallest element is:  -9\n"
     ]
    }
   ],
   "source": [
    "num=int(input(\"How many you want to enter:  \"))\n",
    "l=[]\n",
    "for i in range(num):\n",
    "    n=int(input())\n",
    "    l.append(n)\n",
    "print(\"Smallest element is: \", min(l))"
   ]
  },
  {
   "cell_type": "markdown",
   "metadata": {},
   "source": [
    "# 4.\tWrite a Python program to find largest number in a list?"
   ]
  },
  {
   "cell_type": "code",
   "execution_count": 18,
   "metadata": {},
   "outputs": [
    {
     "name": "stdout",
     "output_type": "stream",
     "text": [
      "How many you want to enter:  5\n",
      "1\n",
      "2\n",
      "3\n",
      "-9\n",
      "-100\n",
      "Largest element is:  3\n"
     ]
    }
   ],
   "source": [
    "num=int(input(\"How many you want to enter:  \"))\n",
    "l=[]\n",
    "for i in range(num):\n",
    "    n=int(input())\n",
    "    l.append(n)\n",
    "print(\"Largest element is: \", max(l))"
   ]
  },
  {
   "cell_type": "markdown",
   "metadata": {},
   "source": [
    "# 5.\tWrite a Python program to find second largest number in a list?"
   ]
  },
  {
   "cell_type": "code",
   "execution_count": 19,
   "metadata": {},
   "outputs": [
    {
     "name": "stdout",
     "output_type": "stream",
     "text": [
      "How many you want to enter:  5\n",
      "-12\n",
      "21\n",
      "23\n",
      "45\n",
      "-100\n",
      "Second largest number is: 23\n"
     ]
    }
   ],
   "source": [
    "num=int(input(\"How many you want to enter:  \"))\n",
    "l=[]\n",
    "for i in range(num):\n",
    "    n=int(input())\n",
    "    l.append(n)\n",
    "l.sort()\n",
    "print(\"Second largest number is:\", l[-2])"
   ]
  },
  {
   "cell_type": "markdown",
   "metadata": {},
   "source": [
    "# 6.\tWrite a Python program to find N largest elements from a list?"
   ]
  },
  {
   "cell_type": "code",
   "execution_count": 20,
   "metadata": {},
   "outputs": [
    {
     "name": "stdout",
     "output_type": "stream",
     "text": [
      "How many you want to enter:  5\n",
      "1\n",
      "2\n",
      "3\n",
      "4\n",
      "5\n",
      "Enter the value of N to find N largest number:  2\n",
      "[5, 4]\n"
     ]
    }
   ],
   "source": [
    "def Nmaxelements(list1, N):\n",
    "    final_list = []\n",
    "  \n",
    "    for i in range(0, N): \n",
    "        max1 = 0\n",
    "          \n",
    "        for j in range(len(list1)):     \n",
    "            if list1[j] > max1:\n",
    "                max1 = list1[j];\n",
    "                  \n",
    "        list1.remove(max1);\n",
    "        final_list.append(max1)\n",
    "          \n",
    "    print(final_list)\n",
    "  \n",
    "num=int(input(\"How many you want to enter:  \"))\n",
    "l=[]\n",
    "for i in range(num):\n",
    "    n=int(input())\n",
    "    l.append(n)\n",
    "N = int(input(\"Enter the value of N to find N largest number:  \"))\n",
    "Nmaxelements(l, N)"
   ]
  },
  {
   "cell_type": "markdown",
   "metadata": {},
   "source": [
    "# 7.\tWrite a Python program to print even numbers in a list?"
   ]
  },
  {
   "cell_type": "code",
   "execution_count": 23,
   "metadata": {},
   "outputs": [
    {
     "name": "stdout",
     "output_type": "stream",
     "text": [
      "How many you want to enter:  5\n",
      "1\n",
      "2\n",
      "3\n",
      "4\n",
      "5\n",
      "\n",
      "Even Numbers are:   [2, 4]   \n"
     ]
    }
   ],
   "source": [
    "num=int(input(\"How many you want to enter:  \"))\n",
    "l=[]\n",
    "even=[]\n",
    "for i in range(num):\n",
    "    n=int(input())\n",
    "    l.append(n)\n",
    "for i in l:\n",
    "    if i % 2 == 0:\n",
    "        even.append(i)\n",
    "        \n",
    "print(\"\\nEven Numbers are:  \",even,\"  \")"
   ]
  },
  {
   "cell_type": "markdown",
   "metadata": {},
   "source": [
    "# 8.\tWrite a Python program to print odd numbers in a List?"
   ]
  },
  {
   "cell_type": "code",
   "execution_count": 24,
   "metadata": {},
   "outputs": [
    {
     "name": "stdout",
     "output_type": "stream",
     "text": [
      "How many you want to enter:  5\n",
      "1\n",
      "2\n",
      "3\n",
      "4\n",
      "5\n",
      "\n",
      "Even Numbers are:   [1, 3, 5]   \n"
     ]
    }
   ],
   "source": [
    "num=int(input(\"How many you want to enter:  \"))\n",
    "l=[]\n",
    "odd=[]\n",
    "for i in range(num):\n",
    "    n=int(input())\n",
    "    l.append(n)\n",
    "for i in l:\n",
    "    if i % 2 != 0:\n",
    "        odd.append(i)\n",
    "        \n",
    "print(\"\\nEven Numbers are:  \",odd,\"  \")"
   ]
  },
  {
   "cell_type": "markdown",
   "metadata": {},
   "source": [
    "# 9.\tWrite a Python program to Remove empty List from List?"
   ]
  },
  {
   "cell_type": "code",
   "execution_count": 28,
   "metadata": {},
   "outputs": [
    {
     "name": "stdout",
     "output_type": "stream",
     "text": [
      "[[1, 2, 3], [1, 2], [1, 2, 3, 4]]\n"
     ]
    }
   ],
   "source": [
    "lst = [[1, 2, 3], [1, 2], [], [], [], [1, 2, 3, 4], [], []]\n",
    "print(list(filter(lambda x: x, lst)))"
   ]
  },
  {
   "cell_type": "markdown",
   "metadata": {},
   "source": [
    "# 10.\tWrite a Python program to Cloning or Copying a list?"
   ]
  },
  {
   "cell_type": "code",
   "execution_count": 29,
   "metadata": {},
   "outputs": [
    {
     "name": "stdout",
     "output_type": "stream",
     "text": [
      "How many you want to enter:  5\n",
      "1\n",
      "2\n",
      "3\n",
      "4\n",
      "5\n",
      "Original List:   [1, 2, 3, 4, 5]\n",
      "After Cloning or coping:   [1, 2, 3, 4, 5]\n"
     ]
    }
   ],
   "source": [
    "def Cloning(li1):\n",
    "    li_copy =[]\n",
    "    li_copy = li1.copy()\n",
    "    return li_copy\n",
    "  \n",
    "\n",
    "num=int(input(\"How many you want to enter:  \"))\n",
    "l=[]\n",
    "odd=[]\n",
    "for i in range(num):\n",
    "    n=int(input())\n",
    "    l.append(n)\n",
    "l2 = Cloning(l)\n",
    "print(\"Original List:  \", l)\n",
    "print(\"After Cloning or coping:  \", l2)"
   ]
  },
  {
   "cell_type": "markdown",
   "metadata": {},
   "source": [
    "# 11.\tWrite a Python program to Count occurrences of an element in a list?"
   ]
  },
  {
   "cell_type": "code",
   "execution_count": 31,
   "metadata": {},
   "outputs": [
    {
     "name": "stdout",
     "output_type": "stream",
     "text": [
      "How many you want to enter:  5\n",
      "1\n",
      "1\n",
      "2\n",
      "3\n",
      "4\n",
      "Which number you want to count:  1\n",
      "1  occurs  2  times \n"
     ]
    }
   ],
   "source": [
    "def count_number(lst, x):\n",
    "    count = 0\n",
    "    for ele in lst:\n",
    "        if (ele == x):\n",
    "            count = count + 1\n",
    "    return count\n",
    "  \n",
    "num=int(input(\"How many you want to enter:  \"))\n",
    "l=[]\n",
    "odd=[]\n",
    "for i in range(num):\n",
    "    n=int(input())\n",
    "    l.append(n)\n",
    "ele=int(input(\"Which number you want to count:  \"))\n",
    "print(ele,\" occurs \",count_number(l, ele),\" times \")"
   ]
  },
  {
   "cell_type": "code",
   "execution_count": null,
   "metadata": {},
   "outputs": [],
   "source": []
  }
 ],
 "metadata": {
  "kernelspec": {
   "display_name": "Python 3",
   "language": "python",
   "name": "python3"
  },
  "language_info": {
   "codemirror_mode": {
    "name": "ipython",
    "version": 3
   },
   "file_extension": ".py",
   "mimetype": "text/x-python",
   "name": "python",
   "nbconvert_exporter": "python",
   "pygments_lexer": "ipython3",
   "version": "3.7.3"
  }
 },
 "nbformat": 4,
 "nbformat_minor": 2
}
