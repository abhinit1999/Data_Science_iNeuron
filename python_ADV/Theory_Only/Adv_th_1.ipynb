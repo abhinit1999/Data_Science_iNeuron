{
 "cells": [
  {
   "cell_type": "markdown",
   "metadata": {},
   "source": [
    "# Q1. What is the purpose of Python's OOP?\n",
    "\n",
    "\n",
    "\n"
   ]
  },
  {
   "cell_type": "markdown",
   "metadata": {},
   "source": [
    "ANS -->   Object oriented programming (OOP) is a method of structuring a program by bundling related properties \n",
    "          and behaviors into individual objects. it makes code more reusable and makes it easier to work with larger\n",
    "          programs. OOP programs prevent us from repeating code because a class can be defined once and reused many times."
   ]
  },
  {
   "cell_type": "markdown",
   "metadata": {},
   "source": [
    "# Q2. Where does an inheritance search look for an attribute?\n",
    "\n",
    "\n",
    "\n"
   ]
  },
  {
   "cell_type": "markdown",
   "metadata": {},
   "source": [
    "ANS -->>> This is when subtype entities inherit values of allattributes of the supertype.\n",
    "        The instance of the subtype is also an instance ofthe supertype. It is important because \n",
    "        it makes the model easier tounderstand and identify to where are the instances grouped to."
   ]
  },
  {
   "cell_type": "markdown",
   "metadata": {},
   "source": [
    "# Q3. How do you distinguish between a class object and an instance object?\n",
    "\n",
    "\n",
    "\n"
   ]
  },
  {
   "cell_type": "markdown",
   "metadata": {},
   "source": [
    "ANS -->> An instance is a specific representation of an object. An object is a generic thing while\n",
    "        an instance is a single object that has been created in memory. Memory allocated for the member of\n",
    "            class at run time is called object or object is the instance of Class"
   ]
  },
  {
   "cell_type": "markdown",
   "metadata": {},
   "source": [
    "# Q4. What makes the first argument in a class’s method function special?\n",
    "\n",
    "\n",
    "\n"
   ]
  },
  {
   "cell_type": "markdown",
   "metadata": {},
   "source": [
    "ANS -->>> When a def appears inside a class, it is usually known as a method. \n",
    "        It automatically receives a special first argument, self, that provides\n",
    "        a handle back to the instance to be processed. Methods with two underscores at \n",
    "        the start and end of names are special methods"
   ]
  },
  {
   "cell_type": "markdown",
   "metadata": {},
   "source": [
    "# Q5. What is the purpose of the __init__ method?\n",
    "\n",
    "\n",
    "\n"
   ]
  },
  {
   "cell_type": "markdown",
   "metadata": {},
   "source": [
    "ANS -->> \"__init__\" is a reseved method in python classes. It is known as a constructor in object oriented concepts.\n",
    "        This method called when an object is created from the class and it allow the class to initialize the attributes of \n",
    "        a class"
   ]
  },
  {
   "cell_type": "markdown",
   "metadata": {},
   "source": [
    "# Q6. What is the process for creating a class instance?\n",
    "\n",
    "\n",
    "\n"
   ]
  },
  {
   "cell_type": "markdown",
   "metadata": {},
   "source": [
    "ANS -->> To create instances of a class, we call the class using class name and pass in whatever arguments\n",
    "        its __init__ method accepts"
   ]
  },
  {
   "cell_type": "markdown",
   "metadata": {},
   "source": [
    "# Q7. What is the process for creating a class?\n",
    "\n",
    "\n",
    "\n"
   ]
  },
  {
   "cell_type": "markdown",
   "metadata": {},
   "source": [
    "ANS -->> To create a class, we use the keyword class : and then name of the class"
   ]
  },
  {
   "cell_type": "markdown",
   "metadata": {},
   "source": [
    "# Q8. How would you define the superclasses of a class?\n"
   ]
  },
  {
   "cell_type": "markdown",
   "metadata": {},
   "source": [
    "ANS -->>  The class from which the subclass is derived is called a superclass (also a base class or a parent class)"
   ]
  },
  {
   "cell_type": "code",
   "execution_count": null,
   "metadata": {},
   "outputs": [],
   "source": []
  },
  {
   "cell_type": "code",
   "execution_count": null,
   "metadata": {},
   "outputs": [],
   "source": []
  }
 ],
 "metadata": {
  "kernelspec": {
   "display_name": "Python 3",
   "language": "python",
   "name": "python3"
  },
  "language_info": {
   "codemirror_mode": {
    "name": "ipython",
    "version": 3
   },
   "file_extension": ".py",
   "mimetype": "text/x-python",
   "name": "python",
   "nbconvert_exporter": "python",
   "pygments_lexer": "ipython3",
   "version": "3.7.3"
  }
 },
 "nbformat": 4,
 "nbformat_minor": 2
}
