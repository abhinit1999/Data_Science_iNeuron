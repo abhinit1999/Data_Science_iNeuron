{
 "cells": [
  {
   "cell_type": "markdown",
   "metadata": {},
   "source": [
    "# 1. Create a class Smoothie and do the following:\n",
    "\n",
    "    - Create an instance attribute called ingredients.\n",
    "    - Create a get_cost method which calculates the total cost of the ingredients used to make the smoothie.\n",
    "    - Create a get_price method which returns the number from get_cost plus the number from get_cost multiplied by 1.5. Round to two decimal places.\n",
    "    - Create a get_name method which gets the ingredients and puts them in alphabetical order into a nice descriptive sentence. If there are multiple ingredients, add the word \"Fusion\" to the end but otherwise, add \"Smoothie\". Remember to change \"-berries\" to \"-berry\". See the examples below.\n",
    "\n",
    "Ingredient\t   Price\n",
    "Strawberries   $1.50\n",
    "Banana\t       $0.50\n",
    "Mango\t       $2.50\n",
    "Blueberries\t   $1.00\n",
    "Raspberries\t   $1.00\n",
    "Apple\t       $1.75\n",
    "Pineapple\t   $3.50\n",
    "\n",
    "Examples\n",
    "\n",
    "s1 = Smoothie([\"Banana\"])\n",
    "\n",
    "s1.ingredients ➞ [\"Banana\"]\n",
    "\n",
    "s1.get_cost() ➞ \"$0.50\"\n",
    "\n",
    "s1.get_price() ➞ \"$1.25\"\n",
    "\n",
    "s1.get_name() ➞ \"Banana Smoothie\"\n",
    "\n",
    "s2 = Smoothie([\"Raspberries\", \"Strawberries\", \"Blueberries\"])\n",
    "\n",
    "s2.ingredients ➞ [\"Raspberries\", \"Strawberries\", \"Blueberries\"]\n",
    "\n",
    "s2.get_cost() ➞ \"$3.50\"\n",
    "\n",
    "s2.get_price() ➞ \"$8.75\"\n",
    "\n",
    "s2.get_name() ➞ \"Blueberry Raspberry Strawberry Fusion\"\n",
    "\n",
    "\n"
   ]
  },
  {
   "cell_type": "code",
   "execution_count": 2,
   "metadata": {},
   "outputs": [],
   "source": [
    "class Smoothie:\n",
    "    def __init__(self, ingredients):\n",
    "        self.ingredients = ingredients\n",
    "\n",
    "    def get_cost(self):\n",
    "        cost = 0\n",
    "        for ingredient in self.ingredients:\n",
    "            if ingredient == '-berries':\n",
    "                ingredient = '-berry'\n",
    "            if ingredient in ingredients:\n",
    "                cost += ingredients[ingredient]\n",
    "        return cost\n",
    "\n",
    "    def get_price(self):\n",
    "        return round(self.get_cost() * 1.5, 2)\n",
    "\n",
    "    def get_name(self):\n",
    "        name = ''\n",
    "        for ingredient in self.ingredients:\n",
    "            if ingredient == '-berries':\n",
    "                ingredient = '-berry'\n",
    "            name += ingredient + ' '\n",
    "        return name[:-1] + 'Fusion' if len(self.ingredients) > 1 else name[:-1] + 'Smoothie'"
   ]
  },
  {
   "cell_type": "markdown",
   "metadata": {},
   "source": [
    "# 2. Your task is to write a program which allows teachers to create a multiple choice test in a class called Testpaper and to be also able to assign a minimum pass mark. The testpaper's subject should also be included. The attributes are in the following order:\n",
    "\n",
    "  1. subject\n",
    "  2. markscheme\n",
    "  3. pass_mark\n",
    "\n",
    "As well as that, we need to create student objects to take the test itself! Create another class called Student and do the following:\n",
    "\n",
    "  - Create an attribute called tests_taken and set the default as 'No tests taken'.\n",
    "  - Make a method called take_test(), which takes in the testpaper object they are completing and the student's answers. Compare what they wrote to the mark scheme, and append to the/create a dictionary assigned to tests_taken in the way as shown in the point below.\n",
    "  - Each key in the dictionary should be the testpaper subject and each value should be a string in the format seen in the examples below (whether or not the student has failed, and their percentage in brackets).\n",
    "\n",
    "Examples\n",
    "\n",
    "paper1 = Testpaper(\"Maths\", [\"1A\", \"2C\", \"3D\", \"4A\", \"5A\"], \"60%\")\n",
    "paper2 = Testpaper(\"Chemistry\", [\"1C\", \"2C\", \"3D\", \"4A\"], \"75%\")\n",
    "paper3 = Testpaper(\"Computing\", [\"1D\", \"2C\", \"3C\", \"4B\", \"5D\", \"6C\", \"7A\"], \"75%\")\n",
    "\n",
    "student1 = Student()\n",
    "student2 = Student()\n",
    "\n",
    "student1.tests_taken ➞ \"No tests taken\"\n",
    "student1.take_test(paper1, [\"1A\", \"2D\", \"3D\", \"4A\", \"5A\"])\n",
    "student1.tests_taken ➞ {\"Maths\" : \"Passed! (80%)\"}\n",
    "\n",
    "student2.take_test(paper2, [\"1C\", \"2D\", \"3A\", \"4C\"])\n",
    "student2.take_test(paper3, [\"1A\", \"2C\", \"3A\", \"4C\", \"5D\", \"6C\", \"7B\"])\n",
    "student2.tests_taken ➞ {\"Chemistry\" : \"Failed! (25%)\", \"Computing\" : \"Failed! (43%)\"}\n",
    "\n"
   ]
  },
  {
   "cell_type": "code",
   "execution_count": 3,
   "metadata": {},
   "outputs": [],
   "source": [
    "class Testpaper:\n",
    "    def __init__(self, subject, questions):\n",
    "        self.subject = subject\n",
    "        self.questions = questions\n",
    "        self.marks = 0\n",
    "        self.pass_mark = 0\n",
    "        self.total_marks = 0\n",
    "        self.student_list = []\n",
    "\n",
    "    def add_student(self, student):\n",
    "        self.student_list.append(student)\n",
    "\n",
    "    def add_question(self, question):\n",
    "        self.questions.append(question)\n",
    "\n",
    "    def add_mark(self, student, question, mark):\n",
    "        self.student_list[student].add_mark(question, mark)\n",
    "\n",
    "    def calculate_total_marks(self):\n",
    "        for student in self.student_list:\n",
    "            self.total_marks += student.total_marks\n",
    "\n",
    "    def calculate_pass_mark(self):\n",
    "        for student in self.student_list:\n",
    "            if student.total_marks >= self.pass_mark:\n",
    "                self.marks += 1\n",
    "\n",
    "    def print_results(self):\n",
    "        print(\"Total marks:\", self.total_marks)\n",
    "        print(\"Pass mark:\", self.pass_mark)\n",
    "        print(\"Marks:\", self.marks)\n",
    "        print(\"Percentage:\", self.marks / len(self.student_list) * 100)\n",
    "        print(\"Students:\")\n",
    "        for student in self.student_list:\n",
    "            print(student.name, \":\", student.total_marks)"
   ]
  },
  {
   "cell_type": "markdown",
   "metadata": {},
   "source": [
    "# 3. Due to unforseen circumstances in Suburbia, the trains will be delayed by a further 10 minutes.\n",
    "\n",
    "Create a function that will help to plan out and manage these delays! Create a function called manage_delays that does the following:\n",
    "\n",
    "   - Parameters will be the train object, a destination and number of minutes the delay is.\n",
    "   - Increment to the train object's expected_time by the delay, if the destination given is in the train object's destinations.\n",
    "\n",
    "Examples\n",
    "\n",
    "trains = [\n",
    "  Train([\"Townsville\", \"Suburbia\", \"Urbantska\"], \"13:04\"),\n",
    "  Train([\"Farmsdale\", \"Suburbia\", \"Lakeside Valley\"], \"13:20\"),\n",
    "  Train([\"Suburbia\", \"Townsville\", \"Lakeside Valley\"], \"13:22\")\n",
    "]\n",
    "\n",
    "for t in trains:\n",
    "    manage_delays(t, \"Lakeside Valley\", 60)\n",
    "\n",
    "trains[0].expected_time ➞ \"13:04\"\n",
    "\n",
    "trains[1].expected_time ➞ \"14:20\"\n",
    "\n",
    "trains[2].expected_time ➞ \"14:22\"\n",
    "\n"
   ]
  },
  {
   "cell_type": "code",
   "execution_count": 4,
   "metadata": {},
   "outputs": [],
   "source": [
    "def manage_delays(train, destination, minutes):\n",
    "    if destination in train.destinations:\n",
    "        train.expected_time += minutes\n",
    "    return train"
   ]
  },
  {
   "cell_type": "markdown",
   "metadata": {},
   "source": [
    "# 4. Ted works as a computer programmer at Minecraft Inc. His boss has just given him an important assignment to update the code for the minecart tracks by the end of April. However, he has recently had to self-isolate due to Corvid-19 and has left the code for the tracks BACK AT WORK!! He has the shorthand for the tracks he's supposed to look at, and where the carts are suppost to end up, but not the actual code.\n",
    "\n",
    "He knows that:\n",
    "\n",
    "  1. \"-->\" = \"Speed-Up Track\" ⁠— If a minecart interacts with this track, it's velocity increases by 2.67 BPS unless it's at its maximum speed of 8 BPS.\n",
    "  2. \"<-->\" = \"Powered Track\" ⁠— If a minecart interacts with this track, it's velocity remains the same.\n",
    "  3. \"<--\" = \"Slow-Down Track\" ⁠— If a minecart interacts with this track, it's velocity decreases by 2.67 BPS unless it's velocity equals 0, at which point it stops.\n",
    "  4. \"---\" = \"Unpowered Track\" ⁠— If a minecart interacts with this track, it's velocity decreases by 1 BPS unless it's velocity equals 0, at which point it stops.\n",
    "\n",
    " Help Ted by writing a class for the tracks that interact with the provided Minecart class as shown above. And then write a function that will take a list of the shorthand tracks and:\n",
    "\n",
    "   - If the Minecart reaches the last peice of Track, return True.\n",
    "   - Else return the index of the Track where the Minecart stops.\n",
    "\n",
    "Examples\n",
    "\n",
    "mine_run([\"-->\", \"-->\", \"-->\", \"<--\", \"<--\", \"<--\"]) ➞ True\n",
    "\n",
    "mine_run([\"-->\", \"<--\", \"-->\", \"-->\", \"<-->\", \"---\"]) ➞ 1\n",
    "\n"
   ]
  },
  {
   "cell_type": "code",
   "execution_count": 7,
   "metadata": {},
   "outputs": [
    {
     "data": {
      "text/plain": [
       "True"
      ]
     },
     "execution_count": 7,
     "metadata": {},
     "output_type": "execute_result"
    }
   ],
   "source": [
    "def mine_run(l):\n",
    "    if len(l) == 0:\n",
    "        return False\n",
    "    if l[0] == '<':\n",
    "        return False\n",
    "    if l[-1] == '>':\n",
    "        return False\n",
    "    for i in range(len(l)):\n",
    "        if l[i] == '<':\n",
    "            if i == 0:\n",
    "                return False\n",
    "            if l[i-1] == '<':\n",
    "                return False\n",
    "            if i == len(l)-1:\n",
    "                return False\n",
    "            if l[i+1] == '>':\n",
    "                return False\n",
    "    return True\n",
    "mine_run([\"-->\", \"-->\", \"-->\", \"<--\", \"<--\", \"<--\"])"
   ]
  },
  {
   "cell_type": "markdown",
   "metadata": {},
   "source": [
    "# 5. Make a Rectangle class with four parameters, an x, a y (representing the top-left corner of the rectangle), a width and a height exclusively in that order.\n",
    "\n",
    "Lastly, make a function intersecting that takes two Rectangle objects and returns True if those objects are intersecting (colliding), else return False.\n",
    "\n",
    "Examples\n",
    "\n",
    "a = Rectangle(10, 20, 100, 20)\n",
    "b = Rectangle(10, 40, 15, 20)\n",
    "c = Rectangle(50, 50, 20, 30)\n",
    "\n",
    "intersecting(a, b) ➞ True\n",
    "\n",
    "intersecting(a, c) ➞ False\n",
    "\n",
    "intersecting(b, c) ➞ True\n",
    "\n"
   ]
  },
  {
   "cell_type": "code",
   "execution_count": 15,
   "metadata": {},
   "outputs": [
    {
     "data": {
      "text/plain": [
       "True"
      ]
     },
     "execution_count": 15,
     "metadata": {},
     "output_type": "execute_result"
    }
   ],
   "source": [
    "class Rectangle:\n",
    "    def __init__(self, x, y, width, height):\n",
    "        self.x = x\n",
    "        self.y = y\n",
    "        self.width = width\n",
    "        self.height = height\n",
    "    def intersecting(self, a, b):\n",
    "        if a.x <= b.x + b.width and a.x + a.width >= b.x and a.y <= b.y + b.height and a.y + a.height >= b.y:\n",
    "            return True\n",
    "        else:\n",
    "            return False\n",
    "        \n",
    "a = Rectangle(10, 20, 100, 20)\n",
    "b = Rectangle(10, 40, 15, 20) \n",
    "c = Rectangle(50, 50, 20, 30)\n",
    "a.intersecting(a, b)"
   ]
  },
  {
   "cell_type": "code",
   "execution_count": null,
   "metadata": {},
   "outputs": [],
   "source": []
  }
 ],
 "metadata": {
  "kernelspec": {
   "display_name": "Python 3",
   "language": "python",
   "name": "python3"
  },
  "language_info": {
   "codemirror_mode": {
    "name": "ipython",
    "version": 3
   },
   "file_extension": ".py",
   "mimetype": "text/x-python",
   "name": "python",
   "nbconvert_exporter": "python",
   "pygments_lexer": "ipython3",
   "version": "3.7.3"
  }
 },
 "nbformat": 4,
 "nbformat_minor": 2
}
