{
 "cells": [
  {
   "cell_type": "markdown",
   "metadata": {},
   "source": [
    "# 1. Write four functions that directly mutate a list:\n",
    "\n",
    "    1. repeat(lst, n): Repeat lst n times.\n",
    "    2. add(lst, x): Adds x to the end of the lst.\n",
    "    3. remove(lst, m, n): Removes all elements between indices m and n inclusive in lst.\n",
    "    4. concat(lst, x): concatenates lst with x (another list).\n",
    "\n",
    "Examples\n",
    "\n",
    "lst = [1, 2, 3, 4]\n",
    "\n",
    "repeat(lst, 3) ➞ [1, 2, 3, 4, 1, 2, 3, 4, 1, 2, 3, 4] \n",
    "\n",
    "add(lst, 1) ➞ [1, 2, 3, 4, 1, 2, 3, 4, 1, 2, 3, 4, 1]\n",
    "\n",
    "remove(lst, 1, 12) ➞ [1]\n",
    "\n",
    "concat(lst, [3, 4]) ➞ [1, 3, 4]\n",
    "\n"
   ]
  },
  {
   "cell_type": "code",
   "execution_count": 1,
   "metadata": {},
   "outputs": [],
   "source": [
    "def repeat(lst, n):\n",
    "    for i in range(n):\n",
    "        lst = lst + lst\n",
    "    return lst\n",
    "\n",
    "\n",
    "def add(lst, x):\n",
    "    lst = lst + x\n",
    "    return lst  \n",
    "\n",
    "def remove(lst, m, n):\n",
    "    lst = lst[:m] + lst[n:]\n",
    "    return lst\n",
    "\n",
    "def concat(lst, x):\n",
    "    lst = lst + x\n",
    "    return lst\n"
   ]
  },
  {
   "cell_type": "markdown",
   "metadata": {},
   "source": [
    "# 2. The classic game of Mastermind is played on a tray on which the Mastermind conceals a code and the Guesser has 10 tries to guess it. The code is a sequence of 4 (or 6, sometimes more) pegs of different colors. Each guess is a corresponding sequence of 4 (or more) pegs of different colors. A guess is \"correct\" when the color of every peg in the guess exactly matches the corresponding peg in the Mastermind's code.\n",
    "\n",
    "After each guess by the Guesser, the Mastermind will give a score comprising black & white pegs, not arranged in any order:\n",
    "\n",
    "   - Black peg == guess peg matches the color of a code peg in the same position.\n",
    "   - White peg == guess peg matches the color of a code peg in another position.\n",
    "\n",
    "Create a function that takes two strings, code and guess as arguments, and returns the score in a dictionary.\n",
    "\n",
    "   - The code and guess are strings of numeric digits\n",
    "   - The color of the pegs are represented by numeric digits\n",
    "   - no \"peg\" may be double-scored\n",
    "\n",
    "Examples\n",
    "\n",
    "guess_score(\"1423\", \"5678\") ➞ {\"black\": 0, \"white\": 0}\n",
    "\n",
    "guess_score(\"1423\", \"2222\") ➞ {\"black\": 1, \"white\": 0}\n",
    "\n",
    "guess_score(\"1423\", \"1234\") ➞ {\"black\": 1, \"white\": 3}\n",
    "\n",
    "guess_score(\"1423\", \"2211\") ➞ {\"black\": 0, \"white\": 2}\n",
    "\n"
   ]
  },
  {
   "cell_type": "code",
   "execution_count": 6,
   "metadata": {},
   "outputs": [
    {
     "data": {
      "text/plain": [
       "{'black': 0, 'white': 0}"
      ]
     },
     "execution_count": 6,
     "metadata": {},
     "output_type": "execute_result"
    }
   ],
   "source": [
    "def guess_score(code, guess):\n",
    "    black = 0\n",
    "    white = 0\n",
    "    for i in range(len(code)):\n",
    "        if code[i] == guess[i]:\n",
    "            black += 1\n",
    "        elif code[i] in guess:\n",
    "            white += 1\n",
    "    return {\"black\": black, \"white\": white}\n",
    "guess_score(\"1423\", \"5678\")"
   ]
  },
  {
   "cell_type": "markdown",
   "metadata": {},
   "source": [
    "# 3. Create a function that takes a list lst and a number N and returns a list of two integers from lst whose product equals N.\n",
    "\n",
    "Examples\n",
    "\n",
    "two_product([1, 2, -1, 4, 5], 20) ➞ [4, 5]\n",
    "\n",
    "two_product([1, 2, 3, 4, 5], 10) ➞ [2, 5]\n",
    "\n",
    "two_product([100, 12, 4, 1, 2], 15) ➞ None\n",
    "\n",
    "\n"
   ]
  },
  {
   "cell_type": "code",
   "execution_count": 15,
   "metadata": {},
   "outputs": [
    {
     "data": {
      "text/plain": [
       "[4, 5]"
      ]
     },
     "execution_count": 15,
     "metadata": {},
     "output_type": "execute_result"
    }
   ],
   "source": [
    "def two_product(lst, N):\n",
    "    product = []\n",
    "    for i in range(len(lst)):\n",
    "        for j in range(i+1, len(lst)):\n",
    "            if lst[i] * lst[j] == N:\n",
    "                product.append(lst[i])\n",
    "                product.append(lst[j])\n",
    "                return product\n",
    "two_product([1, 2, -1, 4, 5], 20)"
   ]
  },
  {
   "cell_type": "markdown",
   "metadata": {},
   "source": [
    "# 4. In this challenge, sort a list containing a series of dates given as strings. Each date is given in the format DD-MM-YYYY_HH:MM:\n",
    "\n",
    "\"12-02-2012_13:44\"\n",
    "\n",
    "The priority of criteria used for sorting will be:\n",
    "\n",
    "  - Year\n",
    "  - Month\n",
    "  - Day\n",
    "  - Hours\n",
    "  - Minutes\n",
    "\n",
    "Given a list lst and a string mode, implement a function that returns:\n",
    "\n",
    "   - if mode is equal to \"ASC\", the list lst sorted in ascending order.\n",
    "   - if mode is equal to \"DSC\", the list lst sorted in descending order.\n",
    "\n",
    "Examples\n",
    "\n",
    "sort_dates([\"10-02-2018_12:30\", \"10-02-2016_12:30\", \"10-02-2018_12:15\"], \"ASC\") ➞ [\"10-02-2016_12:30\", \"10-02-2018_12:15\", \"10-02-2018_12:30\"]\n",
    "\n",
    "sort_dates([\"10-02-2018_12:30\", \"10-02-2016_12:30\", \"10-02-2018_12:15\"], \"DSC\") ➞ [\"10-02-2018_12:30\", \"10-02-2018_12:15\", \"10-02-2016_12:30\"]\n",
    "\n",
    "sort_dates([\"09-02-2000_10:03\", \"10-02-2000_18:29\", \"01-01-1999_00:55\"], \"ASC\") ➞ [\"01-01-1999_00:55\", \"09-02-2000_10:03\", \"10-02-2000_18:29\"]\n"
   ]
  },
  {
   "cell_type": "code",
   "execution_count": 19,
   "metadata": {},
   "outputs": [
    {
     "data": {
      "text/plain": [
       "['10-02-2016_12:30', '10-02-2018_12:15', '10-02-2018_12:30']"
      ]
     },
     "execution_count": 19,
     "metadata": {},
     "output_type": "execute_result"
    }
   ],
   "source": [
    "def sort_dates(lst, mode):\n",
    "    if mode == \"ASC\":\n",
    "        return sorted(lst)\n",
    "    elif mode == \"DSC\":\n",
    "        return sorted(lst, reverse=True)\n",
    "    else:\n",
    "        return None\n",
    "sort_dates([\"10-02-2018_12:30\", \"10-02-2016_12:30\", \"10-02-2018_12:15\"], \"ASC\") "
   ]
  },
  {
   "cell_type": "markdown",
   "metadata": {},
   "source": [
    "# 5. Write a function that selects all words that have all the same vowels (in any order and/or number) as the first word, including the first word.\n",
    "\n",
    "Examples\n",
    "\n",
    "same_vowel_group([\"toe\", \"ocelot\", \"maniac\"]) ➞ [\"toe\", \"ocelot\"]\n",
    "\n",
    "same_vowel_group([\"many\", \"carriage\", \"emit\", \"apricot\", \"animal\"]) ➞ [\"many\"]\n",
    "\n",
    "same_vowel_group([\"hoops\", \"chuff\", \"bot\", \"bottom\"]) ➞ [\"hoops\", \"bot\", \"bottom\"]\n",
    "\n"
   ]
  },
  {
   "cell_type": "code",
   "execution_count": 33,
   "metadata": {},
   "outputs": [
    {
     "name": "stdout",
     "output_type": "stream",
     "text": [
      "[]\n"
     ]
    }
   ],
   "source": [
    "def same_vowel_group(words):\n",
    "    word_list = []\n",
    "    for word in words:\n",
    "        vowels = []\n",
    "        for letter in word:\n",
    "            if letter in \"aeiou\":\n",
    "                vowels.append(letter)\n",
    "        if len(vowels) == len(word):\n",
    "            word_list.append(word)\n",
    "    return word_list\n",
    "        \n",
    "print(same_vowel_group([\"toe\", \"ocelot\", \"maniac\"])) "
   ]
  },
  {
   "cell_type": "markdown",
   "metadata": {},
   "source": [
    "# 6. Create a function that takes a list of more than three numbers and returns the Least Common Multiple (LCM).\n",
    "\n",
    "Examples\n",
    "\n",
    "lcm_of_list([1, 2, 3, 4, 5, 6, 7, 8, 9, 10]) ➞ 2520\n",
    "\n",
    "lcm_of_list([13, 6, 17, 18, 19, 20, 37]) ➞ 27965340\n",
    "\n",
    "lcm_of_list([44, 64, 12, 17, 65]) ➞ 2333760\n"
   ]
  },
  {
   "cell_type": "code",
   "execution_count": 36,
   "metadata": {},
   "outputs": [
    {
     "data": {
      "text/plain": [
       "2520"
      ]
     },
     "execution_count": 36,
     "metadata": {},
     "output_type": "execute_result"
    }
   ],
   "source": [
    "\n",
    "import math \n",
    "def lcm_of_list(numbers):\n",
    "    lcm = 1\n",
    "    for i in numbers:\n",
    "        lcm = lcm * i // math.gcd(lcm, i)\n",
    "    return lcm\n",
    "lcm_of_list([1, 2, 3, 4, 5, 6, 7, 8, 9, 10]) "
   ]
  },
  {
   "cell_type": "code",
   "execution_count": null,
   "metadata": {},
   "outputs": [],
   "source": []
  }
 ],
 "metadata": {
  "kernelspec": {
   "display_name": "Python 3",
   "language": "python",
   "name": "python3"
  },
  "language_info": {
   "codemirror_mode": {
    "name": "ipython",
    "version": 3
   },
   "file_extension": ".py",
   "mimetype": "text/x-python",
   "name": "python",
   "nbconvert_exporter": "python",
   "pygments_lexer": "ipython3",
   "version": "3.7.3"
  }
 },
 "nbformat": 4,
 "nbformat_minor": 2
}
