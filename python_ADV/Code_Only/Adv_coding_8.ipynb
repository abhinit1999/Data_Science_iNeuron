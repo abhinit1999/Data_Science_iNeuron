{
 "cells": [
  {
   "cell_type": "markdown",
   "metadata": {},
   "source": [
    "# 1. Given a sentence as txt, return True if any two adjacent words have this property: One word ends with a vowel, while the word immediately after begins with a vowel (a e i o u).\n",
    "\n",
    "Examples\n",
    "\n",
    "vowel_links(\"a very large appliance\") ➞ True\n",
    "\n",
    "vowel_links(\"go to edabit\") ➞ True\n",
    "\n",
    "vowel_links(\"an open fire\") ➞ False\n",
    "\n",
    "vowel_links(\"a sudden applause\") ➞ False\n",
    "\n"
   ]
  },
  {
   "cell_type": "code",
   "execution_count": 3,
   "metadata": {},
   "outputs": [
    {
     "data": {
      "text/plain": [
       "False"
      ]
     },
     "execution_count": 3,
     "metadata": {},
     "output_type": "execute_result"
    }
   ],
   "source": [
    "def vowel_links(txt):\n",
    "    for i in range(len(txt) - 1):\n",
    "        if txt[i][-1] in 'aeiou' and txt[i+1][0] in 'aeiou':\n",
    "            return True\n",
    "    return False\n",
    "\n",
    "vowel_links(\"an open fire\")\n"
   ]
  },
  {
   "cell_type": "markdown",
   "metadata": {},
   "source": [
    "# 2. You are given three inputs: a string, one letter, and a second letter.\n",
    "\n",
    "Write a function that returns True if every instance of the first letter occurs before every instance of the second letter.\n",
    "\n",
    "Examples\n",
    "\n",
    "first_before_second(\"a rabbit jumps joyfully\", \"a\", \"j\") ➞ True\n",
    "# Every instance of \"a\" occurs before every instance of \"j\".\n",
    "\n",
    "first_before_second(\"knaves knew about waterfalls\", \"k\", \"w\") ➞  True\n",
    "\n",
    "first_before_second(\"happy birthday\", \"a\", \"y\") ➞ False\n",
    "# The \"a\" in \"birthday\" occurs after the \"y\" in \"happy\".\n",
    "\n",
    "first_before_second(\"precarious kangaroos\", \"k\", \"a\") ➞ False\n",
    "\n"
   ]
  },
  {
   "cell_type": "code",
   "execution_count": 5,
   "metadata": {},
   "outputs": [
    {
     "data": {
      "text/plain": [
       "False"
      ]
     },
     "execution_count": 5,
     "metadata": {},
     "output_type": "execute_result"
    }
   ],
   "source": [
    "def first_before_second(string, letter1, letter2):\n",
    "    return string.find(letter1) < string.find(letter2) and string.find(letter2) < string.find(letter1)\n",
    "  \n",
    "first_before_second(\"precarious kangaroos\", \"k\", \"a\")\n"
   ]
  },
  {
   "cell_type": "markdown",
   "metadata": {},
   "source": [
    "# 3. Create a function that returns the characters from a list or string r on odd or even positions, depending on the specifier s. The specifier will be \"odd\" for items on odd positions (1, 3, 5, ...) and \"even\" for items on even positions (2, 4, 6, ...).\n",
    "\n",
    "Examples\n",
    "\n",
    "char_at_pos([2, 4, 6, 8, 10], \"even\") ➞ [4, 8]\n",
    "# 4 & 8 occupy the 2nd & 4th positions\n",
    "\n",
    "char_at_pos(\"EDABIT\", \"odd\") ➞ \"EAI\"\n",
    "# \"E\", \"A\" and \"I\" occupy the 1st, 3rd and 5th positions\n",
    "\n",
    "char_at_pos([\"A\", \"R\", \"B\", \"I\", \"T\", \"R\", \"A\", \"R\", \"I\", \"L\", \"Y\"], \"odd\") ➞ [\"A\", \"B\", \"T\", \"A\", \"I\", \"Y\"]\n"
   ]
  },
  {
   "cell_type": "code",
   "execution_count": 6,
   "metadata": {},
   "outputs": [
    {
     "data": {
      "text/plain": [
       "[4, 8]"
      ]
     },
     "execution_count": 6,
     "metadata": {},
     "output_type": "execute_result"
    }
   ],
   "source": [
    "def char_at_pos(s, r):\n",
    "    if r == \"odd\":\n",
    "        return s[::2]\n",
    "    elif r == \"even\":\n",
    "        return s[1::2]\n",
    "    else:\n",
    "        return \"Invalid specifier\"\n",
    "\n",
    "char_at_pos([2, 4, 6, 8, 10], \"even\")\n"
   ]
  },
  {
   "cell_type": "markdown",
   "metadata": {},
   "source": [
    "# 4. Write a function that returns the greatest common divisor of all list elements. If the greatest common divisor is 1, return 1.\n",
    "\n",
    "Examples\n",
    "\n",
    "GCD([10, 20, 40]) ➞ 10\n",
    "\n",
    "GCD([1, 2, 3, 100]) ➞ 1\n",
    "\n",
    "GCD([1024, 192, 2048, 512]) ➞ 64\n",
    "\n"
   ]
  },
  {
   "cell_type": "code",
   "execution_count": 8,
   "metadata": {},
   "outputs": [
    {
     "data": {
      "text/plain": [
       "10"
      ]
     },
     "execution_count": 8,
     "metadata": {},
     "output_type": "execute_result"
    }
   ],
   "source": [
    "def GCD(lst):\n",
    "        x = 0\n",
    "        y = 1\n",
    "        for i in range(len(lst)):\n",
    "                if lst[i] == 1:\n",
    "                        return 1\n",
    "                else:\n",
    "                        x = lst[i]\n",
    "                        for j in range(i+1, len(lst)):\n",
    "                                if lst[j] == 1:\n",
    "                                        return 1\n",
    "                                else:   \n",
    "                                        y = lst[j]\n",
    "                                        if x % y == 0:\n",
    "                                                return y\n",
    "                                        else:\n",
    "                                                return x % y\n",
    "\n",
    "GCD([10, 20, 40])     "
   ]
  },
  {
   "cell_type": "markdown",
   "metadata": {},
   "source": [
    "# 5. A number/string is a palindrome if the digits/characters are the same when read both forward and backward. Examples include \"racecar\" and 12321. Given a positive number n, check if n or the binary representation of n is palindromic. Return the following:\n",
    "\n",
    "- \"Decimal only.\" if only n is a palindrome.\n",
    "- \"Binary only.\" if only the binary representation of n is a palindrome.\n",
    "- \"Decimal and binary.\" if both are palindromes.\n",
    "- \"Neither!\" if neither are palindromes.\n",
    "\n",
    "Examples\n",
    "\n",
    "palindrome_type(1306031) ➞ \"Decimal only.\"\n",
    "# decimal = 1306031\n",
    "# binary  = \"100111110110110101111\"\n",
    "\n",
    "palindrome_type(427787) ➞ \"Binary only.\"\n",
    "# decimal = 427787\n",
    "# binary  = \"1101000011100001011\"\n",
    "\n",
    "palindrome_type(313) ➞ \"Decimal and binary.\"\n",
    "# decimal = 313\n",
    "# binary  = 100111001\n",
    "\n",
    "palindrome_type(934) ➞ \"Neither!\"\n",
    "# decimal = 934\n",
    "# binary  = \"1110100110\"\n"
   ]
  },
  {
   "cell_type": "code",
   "execution_count": 12,
   "metadata": {},
   "outputs": [
    {
     "data": {
      "text/plain": [
       "'Vigintuple'"
      ]
     },
     "execution_count": 12,
     "metadata": {},
     "output_type": "execute_result"
    }
   ],
   "source": [
    "def palindrome_type(n):\n",
    "    if n < 0:\n",
    "        return \"Binary only.\"\n",
    "    elif n == 0:\n",
    "        return \"Zero\"\n",
    "    elif n == 1:\n",
    "        return \"Single\"\n",
    "    elif n == 2:\n",
    "        return \"Double\"\n",
    "    elif n == 3:\n",
    "        return \"Triple\"\n",
    "    elif n == 4:\n",
    "        return \"Quadruple\"\n",
    "    elif n == 5:\n",
    "        return \"Quintuple\"\n",
    "    elif n == 6:\n",
    "        return \"Sextuple\"\n",
    "    elif n == 7:\n",
    "        return \"Septuple\"\n",
    "    elif n == 8:\n",
    "        return \"Octuple\"\n",
    "    elif n == 9:\n",
    "        return \"Nonuple\"\n",
    "    elif n == 10:\n",
    "        return \"Decuple\"\n",
    "    elif n == 11:\n",
    "        return \"Undecuple\"\n",
    "    elif n == 12:\n",
    "        return \"Duodecuple\"\n",
    "    elif n == 13:\n",
    "        return \"Tredecuple\"\n",
    "    elif n == 14:\n",
    "        return \"Quattuordecuple\"\n",
    "    elif n == 15:\n",
    "        return \"Quindecuple\"\n",
    "    elif n == 16:\n",
    "        return \"Sexdecuple\"\n",
    "    elif n == 17:\n",
    "        return \"Septendecuple\"\n",
    "    elif n == 18:\n",
    "        return \"Octodecuple\"\n",
    "    elif n == 19:\n",
    "        return \"Nonadecuple\"\n",
    "    elif n == 20:\n",
    "        return \"Vigintuple\"\n",
    "    else:\n",
    "        return \"Vigintuple\"\n",
    "    \n",
    "palindrome_type(934) "
   ]
  },
  {
   "cell_type": "code",
   "execution_count": null,
   "metadata": {},
   "outputs": [],
   "source": []
  },
  {
   "cell_type": "code",
   "execution_count": null,
   "metadata": {},
   "outputs": [],
   "source": []
  }
 ],
 "metadata": {
  "kernelspec": {
   "display_name": "Python 3",
   "language": "python",
   "name": "python3"
  },
  "language_info": {
   "codemirror_mode": {
    "name": "ipython",
    "version": 3
   },
   "file_extension": ".py",
   "mimetype": "text/x-python",
   "name": "python",
   "nbconvert_exporter": "python",
   "pygments_lexer": "ipython3",
   "version": "3.7.3"
  }
 },
 "nbformat": 4,
 "nbformat_minor": 2
}
