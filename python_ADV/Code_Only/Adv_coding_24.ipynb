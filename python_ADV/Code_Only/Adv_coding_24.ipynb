{
 "cells": [
  {
   "cell_type": "markdown",
   "metadata": {},
   "source": [
    "# 1. Implement a class iterator to flatten a nested list of lists of integers. Each list element is either an integer or a list. There can be many levels of nested lists in lists.\n",
    "\n",
    "The class initializes with a nested list. It also has two methods:\n",
    "\n",
    "  1. next() returns an integer in the order of appearance.\n",
    "  2. hasNext() returns True / False regarding if all integers have been retrieved or not.\n",
    "\n",
    "Write the Class implementation for three required methods.\n",
    "\n",
    "Examples\n",
    "\n",
    "ni, actual = NestedIterator([[1, 1], 2, [1, 1]]), []\n",
    "while ni.hasNext():\n",
    "    actual.append(ni.next())\n",
    "actual ➞ [1, 1, 2, 1, 1]\n",
    "\n",
    "ni, actual = NestedIterator([1, [4, [6]]]), []\n",
    "while ni.hasNext():\n",
    "    actual.append(ni.next())\n",
    "actual ➞ [1, 4, 6]\n",
    "\n",
    "ni, actual = NestedIterator([[[]], []]), []\n",
    "while ni.hasNext():\n",
    "    actual.append(ni.next())\n",
    "actual ➞ []\n",
    "\n"
   ]
  },
  {
   "cell_type": "code",
   "execution_count": 1,
   "metadata": {},
   "outputs": [],
   "source": [
    "class NestedIterator(object):\n",
    "\n",
    "    def __init__(self, nestedList):\n",
    "        self.nestedList = nestedList\n",
    "        self.stack = []\n",
    "        self.next_int = 0\n",
    "\n",
    "    def next(self):\n",
    "        if self.hasNext():\n",
    "            self.next_int = self.nestedList[self.next_int]\n",
    "            if isinstance(self.next_int, list):\n",
    "                self.stack.append(self.next_int)\n",
    "                self.next_int = 0\n",
    "            else:\n",
    "                return self.next_int\n",
    "\n",
    "    def hasNext(self):\n",
    "        if not self.stack:\n",
    "            return False\n",
    "        if self.next_int == len(self.stack[-1]):\n",
    "            self.stack.pop()\n",
    "            self.next_int = 0\n",
    "        if self.next_int < len(self.stack[-1]):\n",
    "            self.next_int += 1\n",
    "        return True"
   ]
  },
  {
   "cell_type": "markdown",
   "metadata": {},
   "source": [
    "# 2. Implement the class Shape that receives perimeter and density function into __init__ method. The list of consecutive corners defines shape of a 2-dimensional object. The density function defines the mass distribution inside the shape. To compute mass in a certain point m(x, y) = small_square * density(x, y). The __init__ method calls other internal methods that compute three characteristics of the shape:\n",
    "\n",
    "   - area\n",
    "   - total mass\n",
    "   - center of mass (xc, yc)\n",
    "\n",
    "The computational grid has distance between two neighboring points as 2 * delta, the distance between a grid point and the perimeter wall is delta.\n",
    "\n",
    "Examples\n",
    "\n",
    "sh_ex1 = Shape([(1, 1), (3, 1), (3, 2), (1, 2)], lambda x, y: 100 + 100 * x)\n",
    "\n",
    "sh_ex1.area ➞ 2.0\n",
    "\n",
    "sh_ex1.mass ➞ 600.0\n",
    "\n",
    "sh_ex1.mass_center ➞ (2.1, 1.5)\n",
    "\n",
    "The example can be verified via analytical integration. Other shapes in Tests are slightly more complicated and require numerical integration as illustrated here:\n",
    "\n",
    "\n"
   ]
  },
  {
   "cell_type": "code",
   "execution_count": 2,
   "metadata": {},
   "outputs": [],
   "source": [
    "class Shape:\n",
    "    def __init__(self, corners, density):\n",
    "        self.corners = corners\n",
    "        self.density = density\n",
    "\n",
    "    def area(self):\n",
    "        x1, y1 = self.corners[0]\n",
    "        x2, y2 = self.corners[1]\n",
    "        x3, y3 = self.corners[2]\n",
    "        x4, y4 = self.corners[3]\n",
    "\n",
    "        return 0.5 * abs(x1 * (y2 - y3) + x2 * (y3 - y1) + x3 * (y1 - y2) + x4 * (y2 - y4))\n",
    "\n",
    "    def mass(self):\n",
    "        area = self.area()\n",
    "        density = self.density\n",
    "        return area * density\n",
    "\n",
    "    def mass_center(self):\n",
    "        x1, y1 = self.corners[0]\n",
    "        x2, y2 = self.corners[1]\n",
    "        x3, y3 = self.corners[2]\n",
    "        x4, y4 = self.corners[3]\n",
    "\n",
    "        area = self.area()\n",
    "        density = self.density\n",
    "\n",
    "        return (0.5 * (x1 * (y2 - y3) + x2 * (y3 - y1) + x3 * (y1 - y2) + x4 * (y2 - y4)) / area) * density"
   ]
  },
  {
   "cell_type": "markdown",
   "metadata": {},
   "source": [
    "# 3. Given a 3x3 matrix of a completed tic-tac-toe game, create a function that returns whether the game is a win for \"X\", \"O\", or a \"Draw\", where \"X\" and \"O\" represent themselves on the matrix, and \"E\" represents an empty spot.\n",
    "\n",
    "Examples\n",
    "\n",
    "tic_tac_toe([\n",
    "  [\"X\", \"O\", \"X\"],\n",
    "  [\"O\", \"X\",  \"O\"],\n",
    "  [\"O\", \"X\",  \"X\"]\n",
    "]) ➞ \"X\"\n",
    "\n",
    "tic_tac_toe([\n",
    "  [\"O\", \"O\", \"O\"],\n",
    "  [\"O\", \"X\", \"X\"],\n",
    "  [\"E\", \"X\", \"X\"]\n",
    "]) ➞ \"O\"\n",
    "\n",
    "tic_tac_toe([\n",
    "  [\"X\", \"X\", \"O\"],\n",
    "  [\"O\", \"O\", \"X\"],\n",
    "  [\"X\", \"X\", \"O\"]\n",
    "]) ➞ \"Draw\"\n",
    "\n"
   ]
  },
  {
   "cell_type": "code",
   "execution_count": 15,
   "metadata": {},
   "outputs": [
    {
     "data": {
      "text/plain": [
       "'X'"
      ]
     },
     "execution_count": 15,
     "metadata": {},
     "output_type": "execute_result"
    }
   ],
   "source": [
    "def tic_tac_toe(game):\n",
    "    for i in range(len(game)):\n",
    "        if game[i][0] == game[i][1] == game[i][2] != \"E\":\n",
    "            return game[i][0]\n",
    "        if game[0][i] == game[1][i] == game[2][i] != \"E\":\n",
    "            return game[0][i]\n",
    "    if game[0][0] == game[1][1] == game[2][2] != \"E\":\n",
    "        return game[0][0]\n",
    "    if game[0][2] == game[1][1] == game[2][0] != \"E\":\n",
    "        return game[0][2]\n",
    "    return \"Draw\"\n",
    "tic_tac_toe([ [\"X\", \"O\", \"X\"], [\"O\", \"X\", \"O\"], [\"O\", \"X\", \"X\"] ])"
   ]
  },
  {
   "cell_type": "markdown",
   "metadata": {},
   "source": [
    "# 4. Your computer might have been infected by a virus! Create a function that finds the viruses in files and removes them from your computer.\n",
    "\n",
    "Examples\n",
    "\n",
    "remove_virus(\"PC Files: spotifysetup.exe, virus.exe, dog.jpg\") ➞ \"PC Files: spotifysetup.exe, dog.jpg\"\n",
    "\n",
    "remove_virus(\"PC Files: antivirus.exe, cat.pdf, lethalmalware.exe, dangerousvirus.exe \") ➞ \"PC Files: antivirus.exe, cat.pdf\"\n",
    "\n",
    "remove_virus(\"PC Files: notvirus.exe, funnycat.gif\") ➞ \"PC Files: notvirus.exe, funnycat.gif\")\n",
    "\n"
   ]
  },
  {
   "cell_type": "code",
   "execution_count": 16,
   "metadata": {},
   "outputs": [
    {
     "data": {
      "text/plain": [
       "'dog.jpg'"
      ]
     },
     "execution_count": 16,
     "metadata": {},
     "output_type": "execute_result"
    }
   ],
   "source": [
    "def remove_virus(files):\n",
    "    files = files.split(\",\")\n",
    "    files = [file.replace(\" \", \"\") for file in files]\n",
    "    files = [file.replace(\"\\n\", \"\") for file in files]\n",
    "    files = [file for file in files if file[-3:] != \"exe\"]\n",
    "    return \",\".join(files)\n",
    "remove_virus(\"PC Files: spotifysetup.exe, virus.exe, dog.jpg\")"
   ]
  },
  {
   "cell_type": "markdown",
   "metadata": {},
   "source": [
    "# 5. In a video game, a meteor will fall toward the main character's home planet. Given the meteor's trajectory as a string in the form y = mx + b and the character's position as a tuple of (x, y), return True if the meteor will hit the character and False if it will not.\n",
    "\n",
    "Examples\n",
    "\n",
    "will_hit(\"y = 2x - 5\", (0, 0)) ➞ False\n",
    "\n",
    "will_hit(\"y = -4x + 6\", (1, 2)) ➞ True\n",
    "\n",
    "will_hit(\"y = 2x + 6\", (3, 2)) ➞ False\n"
   ]
  },
  {
   "cell_type": "raw",
   "metadata": {},
   "source": [
    "def will_hit(meteor_trajectory, character_position):\n",
    "        if character_position[0] < 0:\n",
    "            return False\n",
    "        elif character_position[1] < 0:\n",
    "            return False\n",
    "        elif character_position[0] > meteor_trajectory[0]:\n",
    "            return False\n",
    "        elif character_position[1] > meteor_trajectory[1]:\n",
    "            return False\n",
    "        else:\n",
    "            return True\n",
    "will_hit(\"y = 2x - 5\", (0, 0)) "
   ]
  },
  {
   "cell_type": "raw",
   "metadata": {},
   "source": []
  },
  {
   "cell_type": "code",
   "execution_count": null,
   "metadata": {},
   "outputs": [],
   "source": []
  }
 ],
 "metadata": {
  "kernelspec": {
   "display_name": "Python 3",
   "language": "python",
   "name": "python3"
  },
  "language_info": {
   "codemirror_mode": {
    "name": "ipython",
    "version": 3
   },
   "file_extension": ".py",
   "mimetype": "text/x-python",
   "name": "python",
   "nbconvert_exporter": "python",
   "pygments_lexer": "ipython3",
   "version": "3.7.3"
  }
 },
 "nbformat": 4,
 "nbformat_minor": 2
}
