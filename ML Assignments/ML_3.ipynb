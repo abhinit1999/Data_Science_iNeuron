{
 "cells": [
  {
   "cell_type": "markdown",
   "metadata": {},
   "source": [
    "# 1.Explain the term machine learning, and how does it work? Explain two machine learning applications in the business world. What are some of the ethical concerns that machine learning applications could raise?\n"
   ]
  },
  {
   "cell_type": "markdown",
   "metadata": {},
   "source": [
    " Machine learning is a subfield of artificial intelligence, which is broadly defined as the capability of a machine to imitate intelligent human behavior. Artificial intelligence systems are used to perform complex tasks in a way that is similar to how humans solve problems.\n",
    "    \n",
    "\n",
    " Working: Machine learning is a data analytics technique that teaches computers to do what comes naturally to humans and animals: learn from experience. Machine learning algorithms use computational methods to “learn” information directly from data without relying on a predetermined equation as a model.\n",
    "\n",
    "   two machine learning applications in the business world: 1. Real-time chatbot agents. 2. Fraud detection\n",
    "\n",
    "   some of the ethical concerns that machine learning applications could raise: -> Lack of transparency of AI tools: AI decisions are not always intelligible to humans. AI is not neutral: AI-based decisions are susceptible to inaccuracies, discriminatory outcomes, embedded or inserted bias. Surveillance practices for data gathering and privacy of court users."
   ]
  },
  {
   "cell_type": "markdown",
   "metadata": {},
   "source": [
    "# 2. Describe the process of human learning:\n",
    "           i. Under the supervision of experts\n",
    "\n",
    "           ii. With the assistance of experts in an indirect manner\n",
    "\n",
    "            iii. Self-education\n",
    "\n"
   ]
  },
  {
   "cell_type": "markdown",
   "metadata": {},
   "source": [
    "Human Learning is the process of acquiring new understanding, knowledge, behaviors, skills, values, attitudes, and preferences.\n",
    " i. Under the supervision of experts : It is a process whereby subject matter experts accelerate the learning process by teaching the technology in real-time.\n",
    "ii. With the assistance of experts in an indirect manner: It is a process in which sometimes someone learn indirectly manner.\n",
    "iii. Self-education : It is a process by which individuals take the initiative, with or without the assistance of others, in diagnosing their learning needs, formulating learning goals, identifying human and material resources for learning, and evaluating learning outcomes"
   ]
  },
  {
   "cell_type": "markdown",
   "metadata": {},
   "source": [
    "# 3. Provide a few examples of various types of machine learning.\n",
    "\n"
   ]
  },
  {
   "cell_type": "markdown",
   "metadata": {},
   "source": [
    "These are three types of machine learning: supervised learning, unsupervised learning, and reinforcement learning.\n",
    "Supervised Learning Examples: Classifications and Regrassions\n",
    "Unsupervised Learning Examples : Clustering\n",
    "Reinforcement Learning Examples : Game Playings"
   ]
  },
  {
   "cell_type": "markdown",
   "metadata": {},
   "source": [
    "# 4. Examine the various forms of machine learning.\n",
    "\n"
   ]
  },
  {
   "cell_type": "markdown",
   "metadata": {},
   "source": [
    "These are three types of machine learning: supervised learning, unsupervised learning, and reinforcement learning."
   ]
  },
  {
   "cell_type": "markdown",
   "metadata": {},
   "source": [
    "# 5. Can you explain what a well-posed learning problem is? Explain the main characteristics that must be present to identify a learning problem properly.\n",
    "\n"
   ]
  },
  {
   "cell_type": "markdown",
   "metadata": {},
   "source": [
    "Well Posed Learning Problem – A computer program is said to learn from experience E in context to some task T and some performance measure P, if its performance on T, as was measured by P, upgrades with experience E. \n",
    "Examples of well-posed learning problem are – \n",
    "\n",
    " To better filter emails as spam or not \n",
    "\n",
    "Task – Classifying emails as spam or not\n",
    "Performance Measure – The fraction of emails accurately classified as spam or not spam \n",
    "Experience – Observing you label emails as spam or not spam \n"
   ]
  },
  {
   "cell_type": "markdown",
   "metadata": {},
   "source": [
    "# 6. Is machine learning capable of solving all problems? Give a detailed explanation of your answer.\n",
    "\n"
   ]
  },
  {
   "cell_type": "markdown",
   "metadata": {},
   "source": [
    "Machines only learn from the data that they receive and can analyze (at an exceedingly high speed). Rather than replacing jobs of humans in the future, machines can make it easier to analyze and compare data and, based on the aggregated numbers\n",
    "The number one problem facing Machine Learning is the lack of good data.\n",
    "\n",
    "LimitationThe Limitations of Machine Learning : \n",
    "Each narrow application needs to be specially trained.\n",
    "Require large amounts of hand-crafted, structured training data.\n",
    "Learning must generally be supervised: Training data must be tagged.\n",
    "Require lengthy offline/ batch training.\n",
    "Do not learn incrementally or interactively, in real time."
   ]
  },
  {
   "cell_type": "markdown",
   "metadata": {},
   "source": [
    "# 7. What are the various methods and technologies for solving machine learning problems? Any two of them should be defined in detail.\n",
    "\n"
   ]
  },
  {
   "cell_type": "markdown",
   "metadata": {},
   "source": [
    "Supervised Learning And UnSupervised Learning are the two most methode that are generaly used to solve the machine learning problems:\n",
    "    \n",
    "    Supervised Learning : ->The term \"Supervised Learning\" refers to a scenario in which a model is used to learn a mapping between input samples and the target variable. This usually entails exposing the algorithm to a large amount of training data, allowing the model to study the output, and fine-tuning the parameters until the desired results are obtained. The machine can then be put to the test by allowing it to generate predictions for a \"validation data set,\" or new data that hasn't been seen before.\n",
    "    \n",
    "    UnSupervised Learning: -> Unsupervised learning allows a machine to study a set of data without the assistance of a human. Following the initial exploration, the computer attempts to uncover hidden patterns that link various variables. This method of learning can assist in the classification of data into categories based solely on statistical attributes. \n",
    "\n",
    " \n",
    "\n",
    "Unsupervised learning does not require big data sets for training, making it significantly faster and easier to implement than supervised learning. Unsupervised learning, in contrast to supervised learning, is based solely on the input data, with no outputs or target variables. As a result, unlike supervised learning, unsupervised learning does not have a teacher correcting the model."
   ]
  },
  {
   "cell_type": "markdown",
   "metadata": {},
   "source": [
    "# 8. Can you explain the various forms of supervised learning? Explain each one with an example application.\n",
    "\n"
   ]
  },
  {
   "cell_type": "markdown",
   "metadata": {},
   "source": [
    "In Supervised Learning, a machine is trained using ‘labeled’ data. Datasets are said to be labeled when they contain both input and output parameters. In other words, the data has already been tagged with the correct answer.\n",
    "1. Regression\n",
    "In regression, a single output value is produced using training data. This value is a probabilistic interpretation, which is ascertained after considering the strength of correlation among the input variables. For example, regression can help predict the price of a house based on its locality, size, etc. \n",
    "\n",
    "In logistic regression, the output has discrete values based on a set of independent variables. This method can flounder when dealing with non-linear and multiple decision boundaries. Also, it is not flexible enough to capture complex relationships in datasets. \n",
    "\n",
    "2. Classification\n",
    "It involves grouping the data into classes.  If you are thinking of extending credit to a person, you can use classification to determine whether or not a person would be a loan defaulter. When the supervised learning algorithm labels input data into two distinct classes, it is called binary classification. Multiple classifications means categorizing data into more than two classes.\n",
    "\n",
    "3. Naive Bayesian Model\n",
    "The Bayesian model of classification is used for large finite datasets. It is a method of assigning class labels using a direct acyclic graph. The graph comprises one parent node and multiple children nodes. And each child node is assumed to be independent and separate from the parent. \n",
    "\n",
    "Decision Trees\n",
    "\n",
    "A decision tree is a flowchart-like model that contains conditional control statements, comprising decisions and their probable consequences. The output relates to the labelling of unforeseen data. \n",
    "\n",
    "In the tree representation, the leaf nodes correspond to class labels, and the internal nodes represent the attributes. A decision tree can be used to solve problems with discrete attributes as well as boolean functions. Some of the notable decision tree algorithms are ID3 and CART.\n",
    "\n",
    "4. Random Forest Model\n",
    "The random forest model is an ensemble method. It operates by constructing a multitude of decision trees and outputs a classification of the individual trees. Suppose you want to predict which undergraduate students will perform well in GMAT – a test taken for admission into graduate management programs. A random forest model would accomplish the task, given the demographic and educational factors of a set of students who have previously taken the test. "
   ]
  },
  {
   "cell_type": "markdown",
   "metadata": {},
   "source": [
    "# 9. What is the difference between supervised and unsupervised learning? With a sample application in each region, explain the differences.\n",
    "\n"
   ]
  },
  {
   "cell_type": "markdown",
   "metadata": {},
   "source": [
    "The main distinction between the two approaches is the use of labeled datasets. To put it simply, supervised learning uses labeled input and output data, while an unsupervised learning algorithm does not.\n",
    "\n",
    "In supervised learning, the algorithm “learns” from the training dataset by iteratively making predictions on the data and adjusting for the correct answer. While supervised learning models tend to be more accurate than unsupervised learning models, they require upfront human intervention to label the data appropriately. For example, a supervised learning model can predict how long your commute will be based on the time of day, weather conditions and so on. But first, you’ll have to train it to know that rainy weather extends the driving time.\n",
    "\n",
    "Unsupervised learning models, in contrast, work on their own to discover the inherent structure of unlabeled data. Note that they still require some human intervention for validating output variables. For example, an unsupervised learning model can identify that online shoppers often purchase groups of products at the same time. However, a data analyst would need to validate that it makes sense for a recommendation engine to group baby clothes with an order of diapers, applesauce and sippy cups.\n",
    "\n"
   ]
  },
  {
   "cell_type": "markdown",
   "metadata": {},
   "source": [
    "# 10. Describe the machine learning process in depth.\n",
    "\n",
    "a. Make brief notes on any two of the following:\n",
    "\n",
    "MATLAB is one of the most widely used programming languages.\n",
    "\n",
    "        ii. Deep learning applications in healthcare\n",
    "\n",
    "        iii. Study of the market basket\n",
    "\n",
    "         iv. Linear regression (simple)\n",
    "\n"
   ]
  },
  {
   "cell_type": "markdown",
   "metadata": {},
   "source": [
    "Machine learning process in depth :-> Machine Learning Process, is the first step in ML process to take the data from multiple sources and followed by a fine-tuned process of data, this data would be the feed for ML algorithms based on the problem statement, like predictive, classification and other models which are available in the space of ML world.\n",
    "    ii. Deep learning applications in healthcare :-> Deep learning applications in healthcare have already been seen in medical imaging solutions, chatbots that can identify patterns in patient symptoms, deep learning algorithms that can identify specific types of cancer, and imaging solutions that use deep learning to identify rare diseases.\n",
    "    iv. Linear regression (simple) :-> Simple linear regression is used to estimate the relationship between two quantitative variables. You can use simple linear regression when we want to know:\n",
    "\n",
    "->How strong the relationship is between two variables (e.g. the relationship between rainfall and soil erosion).\n",
    "->The value of the dependent variable at a certain value of the independent variable (e.g. the amount of soil erosion at a certain level of rainfall).   "
   ]
  },
  {
   "cell_type": "markdown",
   "metadata": {},
   "source": [
    "# 11. Make a comparison between:-\n",
    "\n",
    "         1. Generalization and abstraction\n",
    "\n",
    "          2. Learning that is guided and unsupervised\n",
    "\n",
    "          3. Regression and classification\n"
   ]
  },
  {
   "cell_type": "markdown",
   "metadata": {},
   "source": [
    "1. Generalization and abstraction : -> Abstraction is the process of removing details of objects.A generalization, then, is the formulation of general concepts from specific instances by abstracting common properties. A concrete object can be looked at as a “subset” of a more generalized object.\n",
    "2.  Learning that is guided and unsupervised :-> Unsupervised learning is a type of machine learning in which the algorithm is not provided with any pre-assigned labels or scores for the training data. As a result, unsupervised learning algorithms must first self-discover any naturally occurring patterns in that training data set. \n",
    "3.  Regression and classification :-> Regression is a process of finding the correlations between dependent and independent variables. It helps in predicting the continuous variables such as prediction of Market Trends, prediction of House prices, etc.\n",
    "\n",
    "The task of the Regression algorithm is to find the mapping function to map the input variable(x) to the continuous output variable(y).\n",
    "Classification is a process of finding a function which helps in dividing the dataset into classes based on different parameters. In Classification, a computer program is trained on the training dataset and based on that training, it categorizes the data into different classes.\n",
    "The task of the classification algorithm is to find the mapping function to map the input(x) to the discrete output(y)."
   ]
  },
  {
   "cell_type": "code",
   "execution_count": null,
   "metadata": {},
   "outputs": [],
   "source": []
  },
  {
   "cell_type": "code",
   "execution_count": null,
   "metadata": {},
   "outputs": [],
   "source": []
  }
 ],
 "metadata": {
  "kernelspec": {
   "display_name": "Python 3",
   "language": "python",
   "name": "python3"
  },
  "language_info": {
   "codemirror_mode": {
    "name": "ipython",
    "version": 3
   },
   "file_extension": ".py",
   "mimetype": "text/x-python",
   "name": "python",
   "nbconvert_exporter": "python",
   "pygments_lexer": "ipython3",
   "version": "3.7.3"
  }
 },
 "nbformat": 4,
 "nbformat_minor": 2
}
