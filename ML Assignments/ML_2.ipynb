{
 "cells": [
  {
   "cell_type": "markdown",
   "metadata": {},
   "source": [
    "# 1. What is the concept of human learning? Please give two examples.\n"
   ]
  },
  {
   "cell_type": "markdown",
   "metadata": {},
   "source": [
    "Human learning is a process of acquiring knowledge. Our behavior, skills, values and ethics are acquired when we process information through our minds and learn. Human learning may occur as part of education, personal development or any other informal/formal training\n",
    "Examples: classical conditioning, operant conditioning, and observational learning."
   ]
  },
  {
   "cell_type": "markdown",
   "metadata": {},
   "source": [
    "# 2. What different forms of human learning are there? Are there any machine learning equivalents?\n"
   ]
  },
  {
   "cell_type": "markdown",
   "metadata": {},
   "source": [
    "Artificial Intelligence.\n",
    "Learning Theories.\n",
    "Machine Learning.\n",
    "Reinforcement Learning.\n",
    "Supervised Learning.\n",
    "Unsupervised Learning."
   ]
  },
  {
   "cell_type": "markdown",
   "metadata": {},
   "source": [
    "# 3. What is machine learning, and how does it work? What are the key responsibilities of machine learning?\n"
   ]
  },
  {
   "cell_type": "markdown",
   "metadata": {},
   "source": [
    "Machine learning is a form of artificial intelligence (AI) that teaches computers to think in a similar way to how humans do: Learning and improving upon past experiences. It works by exploring data and identifying patterns, and involves minimal human intervention.\n",
    "\n",
    "Roles and responsibilities of a machine learning engineer\n",
    "Designing ML systems.\n",
    "Researching and implementing ML algorithms and tools.\n",
    "Selecting appropriate data sets.\n",
    "Picking appropriate data representation methods.\n",
    "Identifying differences in data distribution that affects model performance.\n",
    "Verifying data quality."
   ]
  },
  {
   "cell_type": "markdown",
   "metadata": {},
   "source": [
    "# 4. Define the terms \"penalty\" and \"reward\" in the context of reinforcement learning.\n"
   ]
  },
  {
   "cell_type": "markdown",
   "metadata": {},
   "source": [
    "The agent receives rewards by performing correctly and penalties for performing incorrectly."
   ]
  },
  {
   "cell_type": "markdown",
   "metadata": {},
   "source": [
    "# 5. Explain the term \"learning as a search\"?\n"
   ]
  },
  {
   "cell_type": "markdown",
   "metadata": {},
   "source": [
    "The application of machine learning is best thought of as search problem for the best mapping of inputs to outputs given the knowledge and resources available to you for a given project"
   ]
  },
  {
   "cell_type": "markdown",
   "metadata": {},
   "source": [
    "# 6. What are the various goals of machine learning? What is the relationship between these and human learning?\n"
   ]
  },
  {
   "cell_type": "markdown",
   "metadata": {},
   "source": [
    "The goal of machine learning, closely coupled with the goal of AI, is to achieve a thorough understanding about the nature of learning process (both human learning and other forms of learning), about the computational aspects of learning behaviors, and to implant the learning capability in computer systems."
   ]
  },
  {
   "cell_type": "markdown",
   "metadata": {},
   "source": [
    "# 7. Illustrate the various elements of machine learning using a real-life illustration.\n"
   ]
  },
  {
   "cell_type": "markdown",
   "metadata": {},
   "source": [
    "Few of the major Applications of Machine Learning here are: Speech Recognition. Speech to Text Conversion. Natural Language Processing."
   ]
  },
  {
   "cell_type": "markdown",
   "metadata": {},
   "source": [
    "# 8. Provide an example of the abstraction method.\n"
   ]
  },
  {
   "cell_type": "markdown",
   "metadata": {},
   "source": [
    "abstraction takes several forms in Machine Learning, which are related to either features or instances. The main areas of research that include abstraction in learning includes: Feature selection: hiding irrelevant features. Instance selection: hiding irrelevant instances"
   ]
  },
  {
   "cell_type": "markdown",
   "metadata": {},
   "source": [
    "# 9. What is the concept of generalization? What function does it play in the machine learning process?\n"
   ]
  },
  {
   "cell_type": "markdown",
   "metadata": {},
   "source": [
    "Generalization refers to your model's ability to adapt properly to new, previously unseen data, drawn from the same distribution as the one used to create the model."
   ]
  },
  {
   "cell_type": "markdown",
   "metadata": {},
   "source": [
    "# 10. What is classification, exactly? What are the main distinctions between classification and regression?\n"
   ]
  },
  {
   "cell_type": "markdown",
   "metadata": {},
   "source": [
    "Classification : The systematic arrangement of things on the basis of certain similarities or differences is called classification.\n",
    "    \n",
    "    \n",
    " The most significant difference between regression vs classification is that while regression helps predict a continuous quantity, classification predicts discrete class labels.\n",
    "    "
   ]
  },
  {
   "cell_type": "markdown",
   "metadata": {},
   "source": [
    "# 11. What is regression, and how does it work? Give an example of a real-world problem that was solved using regression.\n"
   ]
  },
  {
   "cell_type": "markdown",
   "metadata": {},
   "source": [
    "Regression is a statistical method used in finance, investing, and other disciplines that attempts to determine the strength and character of the relationship between one dependent variable (usually denoted by Y) and a series of other variables (known as independent variables).\n",
    "\n",
    "Sells predictiona could be the best example of regrassiona."
   ]
  },
  {
   "cell_type": "markdown",
   "metadata": {},
   "source": [
    "# 12. Describe the clustering mechanism in detail.\n"
   ]
  },
  {
   "cell_type": "markdown",
   "metadata": {},
   "source": [
    "Clustering is the task of dividing the population or data points into a number of groups such that data points in the same groups are more similar to other data points in the same group than those in other groups. In simple words, the aim is to segregate groups with similar traits and assign them into clusters."
   ]
  },
  {
   "cell_type": "markdown",
   "metadata": {},
   "source": [
    "# 13. Make brief observations on two of the following topics:\n",
    "i. Machine learning algorithms are used\n",
    "ii. Studying under supervision\n",
    "iii. Studying without supervision\n",
    "iv. Reinforcement learning is a form of learning based on positive reinforcement.\n"
   ]
  },
  {
   "cell_type": "markdown",
   "metadata": {},
   "source": [
    "i : machine learning uses programmed algorithms that receive and analyse input data to predict output values within an acceptable range.\n",
    "    \n",
    "ii. : Supervision is the act or function of overseeing something or somebody. A person who performs supervision is a \"supervisor\", but does not always have the formal title of supervisor. A person who is getting supervision is the \"supervisee\"  \n",
    "    "
   ]
  },
  {
   "cell_type": "code",
   "execution_count": null,
   "metadata": {},
   "outputs": [],
   "source": []
  }
 ],
 "metadata": {
  "kernelspec": {
   "display_name": "Python 3",
   "language": "python",
   "name": "python3"
  },
  "language_info": {
   "codemirror_mode": {
    "name": "ipython",
    "version": 3
   },
   "file_extension": ".py",
   "mimetype": "text/x-python",
   "name": "python",
   "nbconvert_exporter": "python",
   "pygments_lexer": "ipython3",
   "version": "3.7.3"
  }
 },
 "nbformat": 4,
 "nbformat_minor": 2
}
